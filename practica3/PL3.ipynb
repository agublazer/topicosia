{
  "nbformat": 4,
  "nbformat_minor": 0,
  "metadata": {
    "colab": {
      "name": "PL3.ipynb",
      "provenance": [],
      "collapsed_sections": []
    },
    "kernelspec": {
      "name": "python3",
      "display_name": "Python 3"
    }
  },
  "cells": [
    {
      "cell_type": "markdown",
      "metadata": {
        "id": "XA7_m-eak6xD"
      },
      "source": [
        "## Funciones"
      ]
    },
    {
      "cell_type": "code",
      "metadata": {
        "id": "_sUDxzw4kf6x"
      },
      "source": [
        "import pandas as pd\n",
        "import numpy as np\n",
        "import matplotlib.pyplot as plt\n",
        "pd.set_option(\"display.max_rows\", None)\n",
        "pd.set_option(\"display.max_columns\", None)"
      ],
      "execution_count": null,
      "outputs": []
    },
    {
      "cell_type": "code",
      "metadata": {
        "id": "fXawgW1rmSvu"
      },
      "source": [
        "# Funciones\n",
        "\n",
        "def Estandarizar_datos(array):\n",
        "    tmp = np.array(array[:,-1])\n",
        "    p = np.mean(array, axis=0)\n",
        "    d = np.std(array, axis=0)\n",
        "    for i in range(0, array.shape[0]):\n",
        "        array[i] = np.true_divide((array[i] - p), d)\n",
        "    array[:,-1] = tmp[:]\n",
        "    return array\n",
        "\n",
        "def Normalizar_datos(datos):\n",
        "    mean_data = np.sum(datos, axis = 0)/datos.shape[0]\n",
        "    min_data = datos.min(axis = 0)\n",
        "    max_data = datos.max(axis = 0)\n",
        "    datos = (datos - mean_data)/(max_data - min_data)\n",
        "    return datos\n",
        "\n",
        "# Funciones k folds\n",
        "def count_classes(data):\n",
        "    class1 = []\n",
        "    class2 = []\n",
        "    total = 0\n",
        "    for row in data:\n",
        "        if row[-1] == True:\n",
        "            class1.append(row)\n",
        "        if row[-1] == False:\n",
        "            class2.append(row)\n",
        "        total += 1\n",
        "    return total, class1, class2\n",
        "\n",
        "def Crear_k_folds(data, k, verbose=False):\n",
        "    total, class1, class2 = count_classes(data)\n",
        "    if verbose:\n",
        "      print('Crear k folds: ', k)\n",
        "      print('total: ', total, ' clase1: ', len(class1), ' clase2: ', len(class2))\n",
        "    folds_class1 = np.array_split(class1, k)\n",
        "    folds_class2 = np.array_split(class2, k)\n",
        "    results = [0]*k\n",
        "    for i in range(k):\n",
        "        results[i] = np.concatenate((folds_class1[i], folds_class2[i]))\n",
        "        ret = count_classes(results[i])\n",
        "        if verbose:\n",
        "          print('fold #', i, ' total elementos: ', ret[0], ' clase1: ', len(ret[1]), ' clase2: ', len(ret[2]))\n",
        "\n",
        "    return results\n",
        "\n",
        "def Crear_Conjuntos(folds, i):\n",
        "    test = folds[i]\n",
        "    train = np.array([])\n",
        "    for it in range(len(folds)):\n",
        "        if it != i:\n",
        "            # train = np.concatenate((train, folds[it]))\n",
        "            if len(train) == 0:\n",
        "                train = folds[it]\n",
        "            else:\n",
        "                train = np.concatenate((train, folds[it]))\n",
        "  \n",
        "    return test, train"
      ],
      "execution_count": null,
      "outputs": []
    },
    {
      "cell_type": "code",
      "metadata": {
        "id": "M09UeRc4nd03"
      },
      "source": [
        "# funciones 2\n",
        "def Sigmoidal(z):\n",
        "    return 1/(1 + np.exp(-(z)))\n",
        "\n",
        "def pred(X_set, W_set):\n",
        "    z = np.array(np.dot(X_set, W_set[0]), dtype='float64')\n",
        "    h_temp = Sigmoidal(z)\n",
        "    h_temp = np.concatenate((np.ones((len(h_temp), 1)), h_temp), axis=1)\n",
        "    \n",
        "    for i in range(1, len(W_set)-1):\n",
        "        z = np.array(np.dot(h_temp,(W_set[i])), dtype='float64')\n",
        "        h_temp = Sigmoidal(z)\n",
        "        h_temp = np.concatenate((np.ones((len(h_temp), 1)), h_temp), axis=1)\n",
        "\n",
        "    z = np.array(np.dot(h_temp, (W_set[-1])), dtype='float64')\n",
        "    h_temp = Sigmoidal(z)\n",
        "\n",
        "    result = np.exp(h_temp)/np.sum(np.exp(h_temp), axis=1, keepdims=True)\n",
        "    return result\n",
        "\n",
        "def Calcular_Accuracy(X_set, W_set, y_set):\n",
        "    y_pred = pred(X_set, W_set)\n",
        "    y_pred = np.argmax(y_pred, axis=1)\n",
        "    # print('y pred shape', y_pred.shape, y_pred[0:10])\n",
        "    y_set_2 = np.argmax(y_set, axis = 1)\n",
        "    # print('y_set_2 shape', y_set_2.shape, y_pred[0:10])\n",
        "    count = 0\n",
        "    for i in range(len(y_pred)):\n",
        "      if y_pred[i] == y_set_2[i]:\n",
        "        count += 1\n",
        "    return ((count) / len(y_pred)) * 100\n",
        "\n",
        "def Calcular_Funcion_Costo(h_set, y_set):\n",
        "    return (np.square(y_set - h_set).mean())*(0.5)\n",
        "\n",
        "def d_cost(y_calculated, y_set):\n",
        "    return (y_set - y_calculated)\n",
        "\n",
        "def dS(d_data):\n",
        "    return d_data * (1.0 - d_data)\n",
        "\n",
        "def Forward(X_set, W_layers_set, num_layers):\n",
        "    #Init forward with empty h set\n",
        "    h_list = []\n",
        "    #First layer\n",
        "    z = np.array(np.dot(X_set, W_layers_set[0]), dtype='float64')\n",
        "    h_temp = Sigmoidal(z)\n",
        "    h_temp = np.concatenate((np.ones((len(h_temp), 1)), h_temp), axis=1)\n",
        "    h_list.append(h_temp)\n",
        "    \n",
        "    #Hidden layers (without first layer)\n",
        "    for i in range(1, num_layers):\n",
        "        #Principal difference is Z\n",
        "        z = np.array(np.dot(h_temp,(W_layers_set[i])), dtype='float64')\n",
        "        h_temp = Sigmoidal(z)\n",
        "        h_temp = np.concatenate((np.ones((len(h_temp), 1)), h_temp), axis=1)\n",
        "        h_list.append(h_temp)\n",
        "\n",
        "    #Last layer\n",
        "    z = np.array(np.dot(h_temp, (W_layers_set[-1])), dtype='float64')\n",
        "    h_temp = Sigmoidal(z)\n",
        "    h_list.append(h_temp)\n",
        "\n",
        "    return h_list\n",
        "\n",
        "def Backward(X_set, h, l, y_output, learning_rate):\n",
        "    it_back = len(h)-1\n",
        "    w_backward = []\n",
        "\n",
        "    dLoss = d_cost(y_output, h[iterator_back])\n",
        "    dh2 = dS(h[iterator_back])\n",
        "    dz2 = h[iterator_back-1]\n",
        "\n",
        "    save = dLoss * dh2\n",
        "    dl = dz2.T.dot(save) \n",
        "\n",
        "    w_backward.append(dl)\n",
        "\n",
        "    #Retro propagacion\n",
        "    i=0\n",
        "    while it_back >= 1:\n",
        "        dLoss = np.dot(save,(l[it_back]).T)\n",
        "        dLoss = dLoss[:,1:]\n",
        "        it_back = it_back-1\n",
        "        dh2 = dS(h[it_back])\n",
        "        dh2 = dh2[:,1:]\n",
        "        \n",
        "        # si alcanza la primera capa\n",
        "        if(it_back-1 < 0):\n",
        "            dz2 = X_set\n",
        "        else:\n",
        "            dz2 = h[it_back-1]\n",
        "\n",
        "        save = dLoss*dh2\n",
        "        dl = dz2.T.dot(save) \n",
        "        w_backward.append(dl)\n",
        "\n",
        "        i+=1\n",
        "    \n",
        "    #Actualizar pesos\n",
        "    j = len(l)-1\n",
        "    for i in range(len(l)):\n",
        "        l[i] = l[i] - learning_rate * w_backward[j]\n",
        "        j = j-1\n",
        "    return l\n",
        "\n",
        "def iniciar_pesos_random(X_set, num_layers, array_num_neurons, num_neurons_output_layer):\n",
        "    w_set = []\n",
        "    w_temp = np.random.rand(X_set.shape[1], array_num_neurons[0])\n",
        "    w_set.append(w_temp)\n",
        "    \n",
        "    for i in range(num_layers - 1):\n",
        "        w_temp = np.random.rand(array_num_neurons[i] + 1, array_num_neurons[i+1])\n",
        "        w_set.append(w_temp)\n",
        "\n",
        "    w_temp = np.random.rand(array_num_neurons[-1] + 1, num_neurons_output_layer)\n",
        "    w_set.append(w_temp)\n",
        "    return w_set\n",
        "\n",
        "def Gradiente_Descendiente(X_set, y_set, num_neurons, num_iterations, learning_rate):   \n",
        "    num_neurons_output_layer = y_set.shape[1]\n",
        "    num_layers = len(num_neurons)\n",
        "    \n",
        "    #Para guardar los pesos\n",
        "    gradient_costs = np.zeros((num_iterations, 1))\n",
        "    \n",
        "    #Init weights\n",
        "    W_set = iniciar_pesos_random(X_set, num_layers, num_neurons, num_neurons_output_layer)\n",
        "     \n",
        "    for i in range (num_iterations):\n",
        "        #Forward\n",
        "        h_forward = []\n",
        "        h_forward = Forward(X_set, W_set, num_layers)\n",
        "        gradient_costs[i] = Calcular_Funcion_Costo(h_forward[-1], y_set)\n",
        "        #Backward\n",
        "        w_backward = Backward(X_set, h_forward, W_set, y_set, learning_rate)\n",
        "    \n",
        "    return gradient_costs, w_backward"
      ],
      "execution_count": null,
      "outputs": []
    },
    {
      "cell_type": "markdown",
      "metadata": {
        "id": "Zu2CEBCglI1W"
      },
      "source": [
        "## MLP"
      ]
    },
    {
      "cell_type": "code",
      "metadata": {
        "colab": {
          "base_uri": "https://localhost:8080/"
        },
        "id": "0IgqIq3-lCu4",
        "outputId": "ca47159a-b193-4bff-88b6-f00fdf4654d9"
      },
      "source": [
        "# Procesar datos\n",
        "pd.set_option(\"display.max_rows\", 10)\n",
        "pd.set_option(\"display.max_columns\", 5)\n",
        "file1 = pd.read_csv('https://raw.githubusercontent.com/agublazer/topicosia/master/practica2/data/titanic_test.csv')\n",
        "file2 = pd.read_csv('https://raw.githubusercontent.com/agublazer/topicosia/master/practica2/data/titanic_train.csv')\n",
        "ids = pd.read_csv('https://raw.githubusercontent.com/agublazer/topicosia/master/practica2/data/gender_submission.csv')\n",
        "\n",
        "# Unir conjunto de test con atributo Survived\n",
        "file1 = pd.concat([file1, ids], axis=1, join=\"inner\")\n",
        "\n",
        "# Quitar atributos innecesarios y unir ambos archivos\n",
        "file1 = file1[['Sex', 'Age', 'Fare', 'Embarked', 'Survived']]\n",
        "file2 = file2[['Sex', 'Age', 'Fare', 'Embarked', 'Survived']]\n",
        "full_df = pd.concat([file1, file2])\n",
        "\n",
        "mapdict = {'Embarked': {'Q': 0, 'S': 1, 'C': 2}, 'Sex': {'male': 1, 'female': 0}}\n",
        "full_df = full_df.replace(mapdict)\n",
        "\n",
        "full_df = full_df.dropna()\n",
        "full_df = full_df.values\n",
        "print(full_df.shape)"
      ],
      "execution_count": null,
      "outputs": [
        {
          "output_type": "stream",
          "text": [
            "(1043, 5)\n"
          ],
          "name": "stdout"
        }
      ]
    },
    {
      "cell_type": "code",
      "metadata": {
        "id": "ThbdjRHXlaWp"
      },
      "source": [
        "def run_k_folds(data_entrada, k, neurons, testing_set='test'): \n",
        "  data_entrada = Estandarizar_datos(data_entrada)\n",
        "  folds = Crear_k_folds(data_entrada, 3)\n",
        "  iterations = [500, 1000, 1500, 2000, 2500, 3000, 3500]\n",
        "  learning_rate = [0.001, 0.01, 0.1]\n",
        "\n",
        "  param_shape = (len(learning_rate),len(iterations))\n",
        "  param_table = np.zeros(param_shape)\n",
        "  \n",
        "  for i in range(k):\n",
        "    test_set, train_set = Crear_Conjuntos(folds, i)\n",
        "\n",
        "    # train set\n",
        "    X_train = np.array(train_set[:, 0:-1])\n",
        "    # X_train = np.insert(X_train, 0, 1, axis=1)\n",
        "    Y_train = np.array(train_set[:, -1])\n",
        "    Y_conv_train  = np.zeros((Y_train.shape[0], 2), dtype='float64')\n",
        "    Y_conv_train[:,0] = Y_train[:] == True\n",
        "    Y_conv_train[:,1] = Y_train[:] == False\n",
        "\n",
        "    # test set\n",
        "    X_test = np.array(test_set[:, 0:-1])\n",
        "    # X_test = np.insert(X_test, 0, 1, axis=1)\n",
        "    Y_test = np.array(test_set[:, -1])\n",
        "    Y_conv_test  = np.zeros((Y_test.shape[0], 2), dtype='float64')\n",
        "    Y_conv_test[:,0] = Y_test[:] == True\n",
        "    Y_conv_test[:,1] = Y_test[:] == False\n",
        "\n",
        "    # gradient\n",
        "    for lr in range(len(learning_rate)):\n",
        "        for it in range(len(iterations)):\n",
        "          costs, weights = Gradiente_Descendiente(X_train, Y_conv_train, neurons, iterations[it], learning_rate[lr])\n",
        "          accuracy = 0.0\n",
        "          if testing_set is 'train':\n",
        "            accuracy = Calcular_Accuracy(X_train, weights, Y_conv_train)\n",
        "          if testing_set is 'test':\n",
        "            accuracy = Calcular_Accuracy(X_test, weights, Y_conv_test)\n",
        "          param_table[lr, it] += accuracy\n",
        "        # print('learning rate done: ', learning_rate[lr])\n",
        "    # plt.plot(titanic_gradient_costs)\n",
        "\n",
        "  param_table = param_table/k\n",
        "  final_df = pd.DataFrame(data=param_table, index = learning_rate, columns=iterations)\n",
        "\n",
        "  print('=========== Resultados ==========')\n",
        "  display(final_df)\n",
        "\n",
        "  id_1, id_2 = np.where(param_table == param_table.max())  # hallar indices de elemento minimo\n",
        "  if len(id_1) > 1:  # si hay mas de un minimo imprimimos el primero\n",
        "    id_1 = id_1[0]\n",
        "    id_2 = id_2[0]\n",
        "  print('================ Parámetros ==================')\n",
        "  print ('Max accuracy: ', param_table.max())\n",
        "  print ('Learning rate: ', learning_rate[int(id_1)])\n",
        "  print ('Iterations: ', iterations[int(id_2)])\n",
        "  return param_table, learning_rate[int(id_1)], iterations[int(id_2)]\n",
        "\n",
        "  "
      ],
      "execution_count": null,
      "outputs": []
    },
    {
      "cell_type": "code",
      "metadata": {
        "colab": {
          "base_uri": "https://localhost:8080/",
          "height": 698
        },
        "id": "WTKdUptd6tCQ",
        "outputId": "a608ed62-8e7f-4f4d-b65e-cff95aebb691"
      },
      "source": [
        "pd.set_option(\"display.max_rows\", None)\n",
        "pd.set_option(\"display.max_columns\", None)\n",
        "layers_list = [[5], [5, 6], [4, 2, 5]]\n",
        "for layers in layers_list:\n",
        "  print('################ CAPA : ', layers)\n",
        "  run_k_folds(full_df, 3, layers, 'test')"
      ],
      "execution_count": 12,
      "outputs": [
        {
          "output_type": "stream",
          "text": [
            "################ CAPA :  [5]\n",
            "=========== Resultados ==========\n"
          ],
          "name": "stdout"
        },
        {
          "output_type": "display_data",
          "data": {
            "text/html": [
              "<div>\n",
              "<style scoped>\n",
              "    .dataframe tbody tr th:only-of-type {\n",
              "        vertical-align: middle;\n",
              "    }\n",
              "\n",
              "    .dataframe tbody tr th {\n",
              "        vertical-align: top;\n",
              "    }\n",
              "\n",
              "    .dataframe thead th {\n",
              "        text-align: right;\n",
              "    }\n",
              "</style>\n",
              "<table border=\"1\" class=\"dataframe\">\n",
              "  <thead>\n",
              "    <tr style=\"text-align: right;\">\n",
              "      <th></th>\n",
              "      <th>500</th>\n",
              "      <th>1000</th>\n",
              "      <th>1500</th>\n",
              "      <th>2000</th>\n",
              "      <th>2500</th>\n",
              "      <th>3000</th>\n",
              "      <th>3500</th>\n",
              "    </tr>\n",
              "  </thead>\n",
              "  <tbody>\n",
              "    <tr>\n",
              "      <th>0.001</th>\n",
              "      <td>84.346383</td>\n",
              "      <td>83.295762</td>\n",
              "      <td>82.817657</td>\n",
              "      <td>84.059299</td>\n",
              "      <td>83.868277</td>\n",
              "      <td>84.155361</td>\n",
              "      <td>84.155361</td>\n",
              "    </tr>\n",
              "    <tr>\n",
              "      <th>0.010</th>\n",
              "      <td>84.154810</td>\n",
              "      <td>83.964889</td>\n",
              "      <td>84.060400</td>\n",
              "      <td>83.391823</td>\n",
              "      <td>83.773867</td>\n",
              "      <td>83.773867</td>\n",
              "      <td>83.582845</td>\n",
              "    </tr>\n",
              "    <tr>\n",
              "      <th>0.100</th>\n",
              "      <td>83.391823</td>\n",
              "      <td>82.722696</td>\n",
              "      <td>83.775519</td>\n",
              "      <td>83.392924</td>\n",
              "      <td>82.051917</td>\n",
              "      <td>83.679457</td>\n",
              "      <td>80.907987</td>\n",
              "    </tr>\n",
              "  </tbody>\n",
              "</table>\n",
              "</div>"
            ],
            "text/plain": [
              "            500        1000       1500       2000       2500       3000  \\\n",
              "0.001  84.346383  83.295762  82.817657  84.059299  83.868277  84.155361   \n",
              "0.010  84.154810  83.964889  84.060400  83.391823  83.773867  83.773867   \n",
              "0.100  83.391823  82.722696  83.775519  83.392924  82.051917  83.679457   \n",
              "\n",
              "            3500  \n",
              "0.001  84.155361  \n",
              "0.010  83.582845  \n",
              "0.100  80.907987  "
            ]
          },
          "metadata": {
            "tags": []
          }
        },
        {
          "output_type": "stream",
          "text": [
            "================ Parámetros ==================\n",
            "Max accuracy:  84.34638283114374\n",
            "Learning rate:  0.001\n",
            "Iterations:  500\n",
            "################ CAPA :  [5, 6]\n",
            "=========== Resultados ==========\n"
          ],
          "name": "stdout"
        },
        {
          "output_type": "display_data",
          "data": {
            "text/html": [
              "<div>\n",
              "<style scoped>\n",
              "    .dataframe tbody tr th:only-of-type {\n",
              "        vertical-align: middle;\n",
              "    }\n",
              "\n",
              "    .dataframe tbody tr th {\n",
              "        vertical-align: top;\n",
              "    }\n",
              "\n",
              "    .dataframe thead th {\n",
              "        text-align: right;\n",
              "    }\n",
              "</style>\n",
              "<table border=\"1\" class=\"dataframe\">\n",
              "  <thead>\n",
              "    <tr style=\"text-align: right;\">\n",
              "      <th></th>\n",
              "      <th>500</th>\n",
              "      <th>1000</th>\n",
              "      <th>1500</th>\n",
              "      <th>2000</th>\n",
              "      <th>2500</th>\n",
              "      <th>3000</th>\n",
              "      <th>3500</th>\n",
              "    </tr>\n",
              "  </thead>\n",
              "  <tbody>\n",
              "    <tr>\n",
              "      <th>0.001</th>\n",
              "      <td>70.201399</td>\n",
              "      <td>84.250872</td>\n",
              "      <td>83.677255</td>\n",
              "      <td>84.250872</td>\n",
              "      <td>84.059299</td>\n",
              "      <td>83.104190</td>\n",
              "      <td>84.059299</td>\n",
              "    </tr>\n",
              "    <tr>\n",
              "      <th>0.010</th>\n",
              "      <td>83.868277</td>\n",
              "      <td>83.869378</td>\n",
              "      <td>83.296313</td>\n",
              "      <td>83.105291</td>\n",
              "      <td>84.156462</td>\n",
              "      <td>83.296313</td>\n",
              "      <td>82.723247</td>\n",
              "    </tr>\n",
              "    <tr>\n",
              "      <th>0.100</th>\n",
              "      <td>71.834444</td>\n",
              "      <td>83.394025</td>\n",
              "      <td>78.296161</td>\n",
              "      <td>74.792532</td>\n",
              "      <td>76.513381</td>\n",
              "      <td>83.200802</td>\n",
              "      <td>82.723247</td>\n",
              "    </tr>\n",
              "  </tbody>\n",
              "</table>\n",
              "</div>"
            ],
            "text/plain": [
              "            500        1000       1500       2000       2500       3000  \\\n",
              "0.001  70.201399  84.250872  83.677255  84.250872  84.059299  83.104190   \n",
              "0.010  83.868277  83.869378  83.296313  83.105291  84.156462  83.296313   \n",
              "0.100  71.834444  83.394025  78.296161  74.792532  76.513381  83.200802   \n",
              "\n",
              "            3500  \n",
              "0.001  84.059299  \n",
              "0.010  82.723247  \n",
              "0.100  82.723247  "
            ]
          },
          "metadata": {
            "tags": []
          }
        },
        {
          "output_type": "stream",
          "text": [
            "================ Parámetros ==================\n",
            "Max accuracy:  84.25087184738061\n",
            "Learning rate:  0.001\n",
            "Iterations:  1000\n",
            "################ CAPA :  [4, 2, 5]\n",
            "=========== Resultados ==========\n"
          ],
          "name": "stdout"
        },
        {
          "output_type": "display_data",
          "data": {
            "text/html": [
              "<div>\n",
              "<style scoped>\n",
              "    .dataframe tbody tr th:only-of-type {\n",
              "        vertical-align: middle;\n",
              "    }\n",
              "\n",
              "    .dataframe tbody tr th {\n",
              "        vertical-align: top;\n",
              "    }\n",
              "\n",
              "    .dataframe thead th {\n",
              "        text-align: right;\n",
              "    }\n",
              "</style>\n",
              "<table border=\"1\" class=\"dataframe\">\n",
              "  <thead>\n",
              "    <tr style=\"text-align: right;\">\n",
              "      <th></th>\n",
              "      <th>500</th>\n",
              "      <th>1000</th>\n",
              "      <th>1500</th>\n",
              "      <th>2000</th>\n",
              "      <th>2500</th>\n",
              "      <th>3000</th>\n",
              "      <th>3500</th>\n",
              "    </tr>\n",
              "  </thead>\n",
              "  <tbody>\n",
              "    <tr>\n",
              "      <th>0.001</th>\n",
              "      <td>60.211005</td>\n",
              "      <td>60.211005</td>\n",
              "      <td>65.974694</td>\n",
              "      <td>71.834444</td>\n",
              "      <td>71.834444</td>\n",
              "      <td>84.346383</td>\n",
              "      <td>83.486233</td>\n",
              "    </tr>\n",
              "    <tr>\n",
              "      <th>0.010</th>\n",
              "      <td>84.728427</td>\n",
              "      <td>83.200251</td>\n",
              "      <td>82.723247</td>\n",
              "      <td>83.868828</td>\n",
              "      <td>83.486784</td>\n",
              "      <td>83.105291</td>\n",
              "      <td>83.199150</td>\n",
              "    </tr>\n",
              "    <tr>\n",
              "      <th>0.100</th>\n",
              "      <td>81.672075</td>\n",
              "      <td>78.200650</td>\n",
              "      <td>79.762957</td>\n",
              "      <td>81.098459</td>\n",
              "      <td>83.391273</td>\n",
              "      <td>81.767036</td>\n",
              "      <td>82.628837</td>\n",
              "    </tr>\n",
              "  </tbody>\n",
              "</table>\n",
              "</div>"
            ],
            "text/plain": [
              "            500        1000       1500       2000       2500       3000  \\\n",
              "0.001  60.211005  60.211005  65.974694  71.834444  71.834444  84.346383   \n",
              "0.010  84.728427  83.200251  82.723247  83.868828  83.486784  83.105291   \n",
              "0.100  81.672075  78.200650  79.762957  81.098459  83.391273  81.767036   \n",
              "\n",
              "            3500  \n",
              "0.001  83.486233  \n",
              "0.010  83.199150  \n",
              "0.100  82.628837  "
            ]
          },
          "metadata": {
            "tags": []
          }
        },
        {
          "output_type": "stream",
          "text": [
            "================ Parámetros ==================\n",
            "Max accuracy:  84.72842676619628\n",
            "Learning rate:  0.01\n",
            "Iterations:  500\n"
          ],
          "name": "stdout"
        }
      ]
    },
    {
      "cell_type": "code",
      "metadata": {
        "colab": {
          "base_uri": "https://localhost:8080/",
          "height": 715
        },
        "id": "mqbFvUv-H260",
        "outputId": "eb2768a8-5f6b-4082-e532-eff0fa54f7c1"
      },
      "source": [
        "from sklearn.datasets import load_iris\n",
        "\n",
        "iris = load_iris()\n",
        "\n",
        "# Preparar dataset\n",
        "iris_data = pd.DataFrame(data= np.c_[iris['data'], iris['target']],\n",
        "                     columns= iris['feature_names'] + ['target'])\n",
        "# print(data1)\n",
        "print(iris_data.values.shape)\n",
        "layers_list = [[6], [6, 6], [6, 6, 6]]\n",
        "for layers in layers_list:\n",
        "  print('################ CAPA : ', layers)\n",
        "  run_k_folds(iris_data.values, 3, layers, 'test')"
      ],
      "execution_count": null,
      "outputs": [
        {
          "output_type": "stream",
          "text": [
            "(150, 5)\n",
            "################ CAPA :  [6]\n",
            "=========== Resultados ==========\n"
          ],
          "name": "stdout"
        },
        {
          "output_type": "display_data",
          "data": {
            "text/html": [
              "<div>\n",
              "<style scoped>\n",
              "    .dataframe tbody tr th:only-of-type {\n",
              "        vertical-align: middle;\n",
              "    }\n",
              "\n",
              "    .dataframe tbody tr th {\n",
              "        vertical-align: top;\n",
              "    }\n",
              "\n",
              "    .dataframe thead th {\n",
              "        text-align: right;\n",
              "    }\n",
              "</style>\n",
              "<table border=\"1\" class=\"dataframe\">\n",
              "  <thead>\n",
              "    <tr style=\"text-align: right;\">\n",
              "      <th></th>\n",
              "      <th>500</th>\n",
              "      <th>1000</th>\n",
              "      <th>1500</th>\n",
              "      <th>2000</th>\n",
              "      <th>2500</th>\n",
              "      <th>3000</th>\n",
              "      <th>3500</th>\n",
              "    </tr>\n",
              "  </thead>\n",
              "  <tbody>\n",
              "    <tr>\n",
              "      <th>0.001</th>\n",
              "      <td>100.0</td>\n",
              "      <td>100.0</td>\n",
              "      <td>100.0</td>\n",
              "      <td>100.0</td>\n",
              "      <td>100.0</td>\n",
              "      <td>100.0</td>\n",
              "      <td>100.0</td>\n",
              "    </tr>\n",
              "    <tr>\n",
              "      <th>0.010</th>\n",
              "      <td>100.0</td>\n",
              "      <td>100.0</td>\n",
              "      <td>100.0</td>\n",
              "      <td>100.0</td>\n",
              "      <td>100.0</td>\n",
              "      <td>100.0</td>\n",
              "      <td>100.0</td>\n",
              "    </tr>\n",
              "    <tr>\n",
              "      <th>0.100</th>\n",
              "      <td>100.0</td>\n",
              "      <td>100.0</td>\n",
              "      <td>100.0</td>\n",
              "      <td>100.0</td>\n",
              "      <td>100.0</td>\n",
              "      <td>100.0</td>\n",
              "      <td>100.0</td>\n",
              "    </tr>\n",
              "  </tbody>\n",
              "</table>\n",
              "</div>"
            ],
            "text/plain": [
              "        500    1000   1500   2000   2500   3000   3500\n",
              "0.001  100.0  100.0  100.0  100.0  100.0  100.0  100.0\n",
              "0.010  100.0  100.0  100.0  100.0  100.0  100.0  100.0\n",
              "0.100  100.0  100.0  100.0  100.0  100.0  100.0  100.0"
            ]
          },
          "metadata": {
            "tags": []
          }
        },
        {
          "output_type": "stream",
          "text": [
            "================ Parámetros ==================\n",
            "Max accuracy:  100.0\n",
            "Learning rate:  0.001\n",
            "Iterations:  500\n",
            "################ CAPA :  [6, 6]\n",
            "=========== Resultados ==========\n"
          ],
          "name": "stdout"
        },
        {
          "output_type": "display_data",
          "data": {
            "text/html": [
              "<div>\n",
              "<style scoped>\n",
              "    .dataframe tbody tr th:only-of-type {\n",
              "        vertical-align: middle;\n",
              "    }\n",
              "\n",
              "    .dataframe tbody tr th {\n",
              "        vertical-align: top;\n",
              "    }\n",
              "\n",
              "    .dataframe thead th {\n",
              "        text-align: right;\n",
              "    }\n",
              "</style>\n",
              "<table border=\"1\" class=\"dataframe\">\n",
              "  <thead>\n",
              "    <tr style=\"text-align: right;\">\n",
              "      <th></th>\n",
              "      <th>500</th>\n",
              "      <th>1000</th>\n",
              "      <th>1500</th>\n",
              "      <th>2000</th>\n",
              "      <th>2500</th>\n",
              "      <th>3000</th>\n",
              "      <th>3500</th>\n",
              "    </tr>\n",
              "  </thead>\n",
              "  <tbody>\n",
              "    <tr>\n",
              "      <th>0.001</th>\n",
              "      <td>52.083333</td>\n",
              "      <td>64.338235</td>\n",
              "      <td>90.196078</td>\n",
              "      <td>97.058824</td>\n",
              "      <td>100.0</td>\n",
              "      <td>100.0</td>\n",
              "      <td>100.0</td>\n",
              "    </tr>\n",
              "    <tr>\n",
              "      <th>0.010</th>\n",
              "      <td>100.000000</td>\n",
              "      <td>100.000000</td>\n",
              "      <td>100.000000</td>\n",
              "      <td>100.000000</td>\n",
              "      <td>100.0</td>\n",
              "      <td>100.0</td>\n",
              "      <td>100.0</td>\n",
              "    </tr>\n",
              "    <tr>\n",
              "      <th>0.100</th>\n",
              "      <td>100.000000</td>\n",
              "      <td>100.000000</td>\n",
              "      <td>100.000000</td>\n",
              "      <td>100.000000</td>\n",
              "      <td>100.0</td>\n",
              "      <td>100.0</td>\n",
              "      <td>100.0</td>\n",
              "    </tr>\n",
              "  </tbody>\n",
              "</table>\n",
              "</div>"
            ],
            "text/plain": [
              "             500         1000        1500        2000   2500   3000   3500\n",
              "0.001   52.083333   64.338235   90.196078   97.058824  100.0  100.0  100.0\n",
              "0.010  100.000000  100.000000  100.000000  100.000000  100.0  100.0  100.0\n",
              "0.100  100.000000  100.000000  100.000000  100.000000  100.0  100.0  100.0"
            ]
          },
          "metadata": {
            "tags": []
          }
        },
        {
          "output_type": "stream",
          "text": [
            "================ Parámetros ==================\n",
            "Max accuracy:  100.0\n",
            "Learning rate:  0.001\n",
            "Iterations:  2500\n",
            "################ CAPA :  [6, 6, 6]\n",
            "=========== Resultados ==========\n"
          ],
          "name": "stdout"
        },
        {
          "output_type": "display_data",
          "data": {
            "text/html": [
              "<div>\n",
              "<style scoped>\n",
              "    .dataframe tbody tr th:only-of-type {\n",
              "        vertical-align: middle;\n",
              "    }\n",
              "\n",
              "    .dataframe tbody tr th {\n",
              "        vertical-align: top;\n",
              "    }\n",
              "\n",
              "    .dataframe thead th {\n",
              "        text-align: right;\n",
              "    }\n",
              "</style>\n",
              "<table border=\"1\" class=\"dataframe\">\n",
              "  <thead>\n",
              "    <tr style=\"text-align: right;\">\n",
              "      <th></th>\n",
              "      <th>500</th>\n",
              "      <th>1000</th>\n",
              "      <th>1500</th>\n",
              "      <th>2000</th>\n",
              "      <th>2500</th>\n",
              "      <th>3000</th>\n",
              "      <th>3500</th>\n",
              "    </tr>\n",
              "  </thead>\n",
              "  <tbody>\n",
              "    <tr>\n",
              "      <th>0.001</th>\n",
              "      <td>50.000000</td>\n",
              "      <td>50.000000</td>\n",
              "      <td>50.0</td>\n",
              "      <td>51.041667</td>\n",
              "      <td>50.0</td>\n",
              "      <td>51.041667</td>\n",
              "      <td>50.0</td>\n",
              "    </tr>\n",
              "    <tr>\n",
              "      <th>0.010</th>\n",
              "      <td>62.377451</td>\n",
              "      <td>81.372549</td>\n",
              "      <td>100.0</td>\n",
              "      <td>100.000000</td>\n",
              "      <td>100.0</td>\n",
              "      <td>100.000000</td>\n",
              "      <td>100.0</td>\n",
              "    </tr>\n",
              "    <tr>\n",
              "      <th>0.100</th>\n",
              "      <td>100.000000</td>\n",
              "      <td>100.000000</td>\n",
              "      <td>100.0</td>\n",
              "      <td>100.000000</td>\n",
              "      <td>100.0</td>\n",
              "      <td>100.000000</td>\n",
              "      <td>100.0</td>\n",
              "    </tr>\n",
              "  </tbody>\n",
              "</table>\n",
              "</div>"
            ],
            "text/plain": [
              "             500         1000   1500        2000   2500        3000   3500\n",
              "0.001   50.000000   50.000000   50.0   51.041667   50.0   51.041667   50.0\n",
              "0.010   62.377451   81.372549  100.0  100.000000  100.0  100.000000  100.0\n",
              "0.100  100.000000  100.000000  100.0  100.000000  100.0  100.000000  100.0"
            ]
          },
          "metadata": {
            "tags": []
          }
        },
        {
          "output_type": "stream",
          "text": [
            "================ Parámetros ==================\n",
            "Max accuracy:  100.0\n",
            "Learning rate:  0.01\n",
            "Iterations:  1500\n"
          ],
          "name": "stdout"
        }
      ]
    },
    {
      "cell_type": "markdown",
      "metadata": {
        "id": "70mdNviFizy2"
      },
      "source": [
        "### SVM"
      ]
    },
    {
      "cell_type": "code",
      "metadata": {
        "id": "keSsREJfoJGN",
        "colab": {
          "base_uri": "https://localhost:8080/"
        },
        "outputId": "12713c7b-8a29-41e3-9823-8e6cc999aa1b"
      },
      "source": [
        "# full_df = full_df.values\n",
        "from sklearn import svm\n",
        "import matplotlib.pyplot as plt\n",
        "\n",
        "def run_k_folds_clf(data_entrada, k, clf):\n",
        "  folds = Crear_k_folds(data_entrada, k)\n",
        "  accuracy = 0\n",
        "  for i in range(k):\n",
        "    test_set, train_set = Crear_Conjuntos(folds, i)\n",
        "\n",
        "    # train set\n",
        "    X_train = np.array(train_set[:, 0:-1])\n",
        "    Y_train = np.array(train_set[:, -1])\n",
        "\n",
        "    # test set\n",
        "    X_test = np.array(test_set[:, 0:-1])\n",
        "    Y_test = np.array(test_set[:, -1])\n",
        "    clf.fit(X_train, Y_train)\n",
        "    predictions = clf.predict(X_test)\n",
        "    total = 0\n",
        "    success = 0\n",
        "    for i in range(len(predictions)):\n",
        "      total += 1\n",
        "      if (predictions[i] == Y_test[i]):\n",
        "        success += 1\n",
        "  \n",
        "    accuracy +=success/total * 100 \n",
        "  \n",
        "  return clf, accuracy/k\n",
        "\n",
        "kernels = ['linear', 'rbf', 'poly']\n",
        "\"\"\"\n",
        "for kernel in kernels:\n",
        "  # titanic\n",
        "  svc1 = svm.SVC(kernel=kernel)\n",
        "  svc1, acc = run_k_folds_clf(full_df, 3, svc1)\n",
        "  print('titanic', kernel, acc)\n",
        "  # iris\n",
        "  svc2 = svm.SVC(kernel=kernel)\n",
        "  # svc2, acc = run_k_folds_clf(iris_data.values, 3, svc2)\n",
        "  print('iris', kernel, acc)\n",
        "\n",
        "print(full_df)\n",
        "print(iris.values())\n",
        "\"\"\"\n",
        "# Lineal\n",
        "svc = svm.SVC(kernel='linear')  # Titanic\n",
        "svc, acc = run_k_folds_clf(full_df, 3, svc)\n",
        "print('titanic lineal:', acc) \n",
        "\n",
        "svc = svm.SVC(kernel='linear')  # iris\n",
        "svc, acc = run_k_folds_clf(iris_data.values, 3, svc)\n",
        "print('iris lineal:', acc)\n"
      ],
      "execution_count": null,
      "outputs": [
        {
          "output_type": "stream",
          "text": [
            "titanic lineal: 84.91944873372253\n",
            "iris lineal: 100.0\n"
          ],
          "name": "stdout"
        }
      ]
    },
    {
      "cell_type": "code",
      "metadata": {
        "colab": {
          "base_uri": "https://localhost:8080/",
          "height": 341
        },
        "id": "nKwq82BvF8py",
        "outputId": "377e4e32-26ff-4ba9-da06-f39d36b811d5"
      },
      "source": [
        "# Gaussiano - Gamma\n",
        "gammas = [0.1, 1, 10, 100]\n",
        "gammas_titanic = []\n",
        "gammas_iris = []\n",
        "\n",
        "for gamma in gammas:\n",
        "    # Titanic\n",
        "    svc = svm.SVC(kernel='rbf', gamma=gamma)\n",
        "    svc, acc = run_k_folds_clf(full_df, 3, svc)\n",
        "    gammas_titanic.append(acc)\n",
        "    # iris\n",
        "    svc = svm.SVC(kernel='rbf', gamma=gamma)\n",
        "    svc, acc = run_k_folds_clf(iris_data.values, 3, svc)\n",
        "    gammas_iris.append(acc)\n",
        "\n",
        "print('Gaussiano - gamma')\n",
        "data_final_pandas = pd.DataFrame(data=[gammas_titanic, gammas_iris], columns=gammas, index=['titanic', 'iris'])\n",
        "display(data_final_pandas)\n",
        "max_titanic_gamma = gammas_titanic.index(max(gammas_titanic))\n",
        "print('max titanic gamma', max(gammas_titanic), gammas[max_titanic_gamma])\n",
        "max_iris_gamma = gammas_iris.index(max(gammas_iris))\n",
        "print('max iris gamma', max(gammas_iris), gammas[max_iris_gamma], '\\n')\n",
        "\n",
        "# Gaussiano - C\n",
        "c_list = [0.1, 1, 10, 1000]\n",
        "c_titanic = []\n",
        "c_iris = []\n",
        "\n",
        "for c in c_list:\n",
        "    # Titanic\n",
        "    svc = svm.SVC(kernel='rbf', C=c)\n",
        "    svc, acc = run_k_folds_clf(full_df, 3, svc)\n",
        "    c_titanic.append(acc)\n",
        "    # iris\n",
        "    svc = svm.SVC(kernel='rbf', C=c)\n",
        "    svc, acc = run_k_folds_clf(iris_data.values, 3, svc)\n",
        "    c_iris.append(acc)\n",
        "\n",
        "print('Gaussiano - C')\n",
        "data_final_pandas = pd.DataFrame(data=[c_titanic, c_iris], columns=c_list, index=['titanic', 'iris'])\n",
        "display(data_final_pandas)\n",
        "max_titanic_c = c_titanic.index(max(c_titanic))\n",
        "print('max titanic c', max(c_titanic), c_list[max_titanic_c])\n",
        "max_iris_c = c_iris.index(max(c_iris))\n",
        "print('max iris c', max(c_iris), c_list[max_iris_c], '\\n')"
      ],
      "execution_count": null,
      "outputs": [
        {
          "output_type": "stream",
          "text": [
            "Gaussiano - gamma\n"
          ],
          "name": "stdout"
        },
        {
          "output_type": "display_data",
          "data": {
            "text/html": [
              "<div>\n",
              "<style scoped>\n",
              "    .dataframe tbody tr th:only-of-type {\n",
              "        vertical-align: middle;\n",
              "    }\n",
              "\n",
              "    .dataframe tbody tr th {\n",
              "        vertical-align: top;\n",
              "    }\n",
              "\n",
              "    .dataframe thead th {\n",
              "        text-align: right;\n",
              "    }\n",
              "</style>\n",
              "<table border=\"1\" class=\"dataframe\">\n",
              "  <thead>\n",
              "    <tr style=\"text-align: right;\">\n",
              "      <th></th>\n",
              "      <th>0.1</th>\n",
              "      <th>1.0</th>\n",
              "      <th>10.0</th>\n",
              "      <th>100.0</th>\n",
              "    </tr>\n",
              "  </thead>\n",
              "  <tbody>\n",
              "    <tr>\n",
              "      <th>titanic</th>\n",
              "      <td>64.340548</td>\n",
              "      <td>63.759224</td>\n",
              "      <td>61.650276</td>\n",
              "      <td>61.745787</td>\n",
              "    </tr>\n",
              "    <tr>\n",
              "      <th>iris</th>\n",
              "      <td>100.000000</td>\n",
              "      <td>98.958333</td>\n",
              "      <td>95.036765</td>\n",
              "      <td>74.019608</td>\n",
              "    </tr>\n",
              "  </tbody>\n",
              "</table>\n",
              "</div>"
            ],
            "text/plain": [
              "              0.1        1.0        10.0       100.0\n",
              "titanic   64.340548  63.759224  61.650276  61.745787\n",
              "iris     100.000000  98.958333  95.036765  74.019608"
            ]
          },
          "metadata": {
            "tags": []
          }
        },
        {
          "output_type": "stream",
          "text": [
            "max titanic gamma 64.34054757795705 0.1\n",
            "max iris gamma 100.0 0.1 \n",
            "\n",
            "Gaussiano - C\n"
          ],
          "name": "stdout"
        },
        {
          "output_type": "display_data",
          "data": {
            "text/html": [
              "<div>\n",
              "<style scoped>\n",
              "    .dataframe tbody tr th:only-of-type {\n",
              "        vertical-align: middle;\n",
              "    }\n",
              "\n",
              "    .dataframe tbody tr th {\n",
              "        vertical-align: top;\n",
              "    }\n",
              "\n",
              "    .dataframe thead th {\n",
              "        text-align: right;\n",
              "    }\n",
              "</style>\n",
              "<table border=\"1\" class=\"dataframe\">\n",
              "  <thead>\n",
              "    <tr style=\"text-align: right;\">\n",
              "      <th></th>\n",
              "      <th>0.1</th>\n",
              "      <th>1.0</th>\n",
              "      <th>10.0</th>\n",
              "      <th>1000.0</th>\n",
              "    </tr>\n",
              "  </thead>\n",
              "  <tbody>\n",
              "    <tr>\n",
              "      <th>titanic</th>\n",
              "      <td>65.105186</td>\n",
              "      <td>65.008023</td>\n",
              "      <td>65.872577</td>\n",
              "      <td>83.869929</td>\n",
              "    </tr>\n",
              "    <tr>\n",
              "      <th>iris</th>\n",
              "      <td>100.000000</td>\n",
              "      <td>100.000000</td>\n",
              "      <td>100.000000</td>\n",
              "      <td>100.000000</td>\n",
              "    </tr>\n",
              "  </tbody>\n",
              "</table>\n",
              "</div>"
            ],
            "text/plain": [
              "             0.1         1.0         10.0        1000.0\n",
              "titanic   65.105186   65.008023   65.872577   83.869929\n",
              "iris     100.000000  100.000000  100.000000  100.000000"
            ]
          },
          "metadata": {
            "tags": []
          }
        },
        {
          "output_type": "stream",
          "text": [
            "max titanic c 83.86992890349536 1000\n",
            "max iris c 100.0 0.1 \n",
            "\n"
          ],
          "name": "stdout"
        }
      ]
    },
    {
      "cell_type": "code",
      "metadata": {
        "colab": {
          "base_uri": "https://localhost:8080/",
          "height": 179
        },
        "id": "lp_Fbo5dJD58",
        "outputId": "cad565df-0474-4bd9-de88-72973782eba6"
      },
      "source": [
        "# Polinomial - degree\n",
        "degrees = [0, 1, 2, 3, 4, 5, 6]\n",
        "degrees_titanic = []\n",
        "degrees_iris = []\n",
        "\n",
        "for degree in degrees:\n",
        "    # Titanic\n",
        "    svc = svm.SVC(kernel='poly', degree=degree)\n",
        "    svc, acc = run_k_folds_clf(full_df, 3, svc)\n",
        "    degrees_titanic.append(acc)\n",
        "    # iris\n",
        "    svc = svm.SVC(kernel='poly', degree=degree)\n",
        "    svc, acc = run_k_folds_clf(iris_data.values, 3, svc)\n",
        "    degrees_iris.append(acc)\n",
        "\n",
        "print('Polinomial - degree')\n",
        "data_final_pandas = pd.DataFrame(data=[degrees_titanic, degrees_iris], columns=degrees, index=['titanic', 'iris'])\n",
        "display(data_final_pandas)\n",
        "max_titanic_degree = degrees_titanic.index(max(degrees_titanic))\n",
        "print('max titanic degree', max(degrees_titanic), degrees[max_titanic_degree])\n",
        "max_iris_degree = degrees_iris.index(max(degrees_iris))\n",
        "print('max iris degree', max(degrees_iris), degrees[max_iris_degree], '\\n')\n"
      ],
      "execution_count": null,
      "outputs": [
        {
          "output_type": "stream",
          "text": [
            "Polinomial - degree\n"
          ],
          "name": "stdout"
        },
        {
          "output_type": "display_data",
          "data": {
            "text/html": [
              "<div>\n",
              "<style scoped>\n",
              "    .dataframe tbody tr th:only-of-type {\n",
              "        vertical-align: middle;\n",
              "    }\n",
              "\n",
              "    .dataframe tbody tr th {\n",
              "        vertical-align: top;\n",
              "    }\n",
              "\n",
              "    .dataframe thead th {\n",
              "        text-align: right;\n",
              "    }\n",
              "</style>\n",
              "<table border=\"1\" class=\"dataframe\">\n",
              "  <thead>\n",
              "    <tr style=\"text-align: right;\">\n",
              "      <th></th>\n",
              "      <th>0</th>\n",
              "      <th>1</th>\n",
              "      <th>2</th>\n",
              "      <th>3</th>\n",
              "      <th>4</th>\n",
              "      <th>5</th>\n",
              "      <th>6</th>\n",
              "    </tr>\n",
              "  </thead>\n",
              "  <tbody>\n",
              "    <tr>\n",
              "      <th>titanic</th>\n",
              "      <td>60.211005</td>\n",
              "      <td>63.378832</td>\n",
              "      <td>62.704199</td>\n",
              "      <td>62.318853</td>\n",
              "      <td>63.183406</td>\n",
              "      <td>63.759224</td>\n",
              "      <td>64.142369</td>\n",
              "    </tr>\n",
              "    <tr>\n",
              "      <th>iris</th>\n",
              "      <td>50.000000</td>\n",
              "      <td>100.000000</td>\n",
              "      <td>100.000000</td>\n",
              "      <td>100.000000</td>\n",
              "      <td>100.000000</td>\n",
              "      <td>100.000000</td>\n",
              "      <td>99.019608</td>\n",
              "    </tr>\n",
              "  </tbody>\n",
              "</table>\n",
              "</div>"
            ],
            "text/plain": [
              "                 0           1           2           3           4  \\\n",
              "titanic  60.211005   63.378832   62.704199   62.318853   63.183406   \n",
              "iris     50.000000  100.000000  100.000000  100.000000  100.000000   \n",
              "\n",
              "                  5          6  \n",
              "titanic   63.759224  64.142369  \n",
              "iris     100.000000  99.019608  "
            ]
          },
          "metadata": {
            "tags": []
          }
        },
        {
          "output_type": "stream",
          "text": [
            "max titanic degree 64.14236916784334 6\n",
            "max iris degree 100.0 1 \n",
            "\n"
          ],
          "name": "stdout"
        }
      ]
    },
    {
      "cell_type": "code",
      "metadata": {
        "colab": {
          "base_uri": "https://localhost:8080/",
          "height": 1000
        },
        "id": "AJN7sFa2SO3p",
        "outputId": "65ab5a14-8dce-4262-b63e-0cbd8d0f1f35"
      },
      "source": [
        "from sklearn.svm import SVC\n",
        "import numpy as np\n",
        "import matplotlib.pyplot as plt\n",
        "from sklearn import svm, datasets\n",
        "from sklearn.decomposition import PCA\n",
        "\n",
        "iris = datasets.load_iris()\n",
        "\n",
        "def make_meshgrid(x, y, h=.02):\n",
        "    x_min, x_max = x.min() - 1, x.max() + 1\n",
        "    y_min, y_max = y.min() - 1, y.max() + 1\n",
        "    xx, yy = np.meshgrid(np.arange(x_min, x_max, h), np.arange(y_min, y_max, h))\n",
        "    return xx, yy\n",
        "\n",
        "def plot_contours(ax, clf, xx, yy, **params):\n",
        "    Z = clf.predict(np.c_[xx.ravel(), yy.ravel()])\n",
        "    Z = Z.reshape(xx.shape)\n",
        "    out = ax.contourf(xx, yy, Z, **params)\n",
        "    return out\n",
        "\n",
        "def plot_model(data_X, data_Y, clf, p_title):\n",
        "  pca = PCA(n_components=2)\n",
        "  Xreduced = pca.fit_transform(data_X)\n",
        "  clf = model.fit(Xreduced, data_Y)\n",
        "  fig, ax = plt.subplots()\n",
        "  # Set-up grid for plotting.\n",
        "  X0, X1 = Xreduced[:, 0], Xreduced[:, 1]\n",
        "  xx, yy = make_meshgrid(X0, X1)\n",
        "  plot_contours(ax, clf, xx, yy, cmap=plt.cm.PuOr, alpha=0.8)\n",
        "  ax.scatter(X0, X1, c=data_Y, cmap=plt.cm.PuOr, s=20, edgecolors='k')\n",
        "  ax.set_ylabel('PC2')\n",
        "  ax.set_xlabel('PC1')\n",
        "  ax.set_xticks(())\n",
        "  ax.set_yticks(())\n",
        "  ax.set_title(p_title)\n",
        "  ax.legend()\n",
        "  plt.show()\n",
        "\n",
        "print('Plot Iris')\n",
        "\n",
        "model = svm.SVC(kernel='rbf', gamma=0.1, C=1000)\n",
        "plot_model(iris.data, iris.target, model, 'gaussiano - gamma y c')\n",
        "model = svm.SVC(kernel='linear')\n",
        "plot_model(iris.data, iris.target, model, 'linear')\n",
        "model = svm.SVC(kernel='poly', degree=1)\n",
        "plot_model(iris.data, iris.target, model, 'polinomial - 1')\n",
        "model = svm.SVC(kernel='poly', degree=3)\n",
        "plot_model(iris.data, iris.target, model, 'polinomial - 3')\n",
        "\n"
      ],
      "execution_count": null,
      "outputs": [
        {
          "output_type": "stream",
          "text": [
            "No handles with labels found to put in legend.\n"
          ],
          "name": "stderr"
        },
        {
          "output_type": "stream",
          "text": [
            "Plot Iris\n"
          ],
          "name": "stdout"
        },
        {
          "output_type": "display_data",
          "data": {
            "image/png": "[encoded data removed]",
            "text/plain": [
              "<Figure size 432x288 with 1 Axes>"
            ]
          },
          "metadata": {
            "tags": []
          }
        },
        {
          "output_type": "stream",
          "text": [
            "No handles with labels found to put in legend.\n"
          ],
          "name": "stderr"
        },
        {
          "output_type": "display_data",
          "data": {
            "image/png": "[encoded data removed]",
            "text/plain": [
              "<Figure size 432x288 with 1 Axes>"
            ]
          },
          "metadata": {
            "tags": []
          }
        },
        {
          "output_type": "stream",
          "text": [
            "No handles with labels found to put in legend.\n"
          ],
          "name": "stderr"
        },
        {
          "output_type": "display_data",
          "data": {
            "image/png": "[encoded data removed]",
            "text/plain": [
              "<Figure size 432x288 with 1 Axes>"
            ]
          },
          "metadata": {
            "tags": []
          }
        },
        {
          "output_type": "stream",
          "text": [
            "No handles with labels found to put in legend.\n"
          ],
          "name": "stderr"
        },
        {
          "output_type": "display_data",
          "data": {
            "image/png": "[encoded data removed]",
            "text/plain": [
              "<Figure size 432x288 with 1 Axes>"
            ]
          },
          "metadata": {
            "tags": []
          }
        }
      ]
    },
    {
      "cell_type": "code",
      "metadata": {
        "colab": {
          "base_uri": "https://localhost:8080/",
          "height": 1000
        },
        "id": "fY3i1KJHg-GF",
        "outputId": "a83d9f2a-93d6-442c-f37b-5f4b8f64b3c3"
      },
      "source": [
        "print('Plot Titanic')\n",
        "full_df_copy = full_df.copy()\n",
        "data_entrada = Estandarizar_datos(full_df_copy)\n",
        "x_df_copy = data_entrada[400:550, 0:-1]\n",
        "y_df_copy = data_entrada[400:550, -1]\n",
        "model = svm.SVC(kernel='rbf', gamma=0.1, C=1.0)\n",
        "plot_model(x_df_copy, y_df_copy, model, 'gaussiano - gamma y c')\n",
        "model = svm.SVC(kernel='linear')\n",
        "plot_model(x_df_copy, y_df_copy, model, 'linear')\n",
        "model = svm.SVC(kernel='poly', degree=1)\n",
        "plot_model(x_df_copy, y_df_copy, model, 'polinomial - 1')\n",
        "model = svm.SVC(kernel='poly', degree=4)\n",
        "plot_model(x_df_copy, y_df_copy, model, 'polinomial - 6')\n"
      ],
      "execution_count": null,
      "outputs": [
        {
          "output_type": "stream",
          "text": [
            "Plot Titanic\n"
          ],
          "name": "stdout"
        },
        {
          "output_type": "stream",
          "text": [
            "No handles with labels found to put in legend.\n"
          ],
          "name": "stderr"
        },
        {
          "output_type": "display_data",
          "data": {
            "image/png": "[encoded data removed]",
            "text/plain": [
              "<Figure size 432x288 with 1 Axes>"
            ]
          },
          "metadata": {
            "tags": []
          }
        },
        {
          "output_type": "stream",
          "text": [
            "No handles with labels found to put in legend.\n"
          ],
          "name": "stderr"
        },
        {
          "output_type": "display_data",
          "data": {
            "image/png": "[encoded data removed]",
            "text/plain": [
              "<Figure size 432x288 with 1 Axes>"
            ]
          },
          "metadata": {
            "tags": []
          }
        },
        {
          "output_type": "stream",
          "text": [
            "No handles with labels found to put in legend.\n"
          ],
          "name": "stderr"
        },
        {
          "output_type": "display_data",
          "data": {
            "image/png": "[encoded data removed]",
            "text/plain": [
              "<Figure size 432x288 with 1 Axes>"
            ]
          },
          "metadata": {
            "tags": []
          }
        },
        {
          "output_type": "stream",
          "text": [
            "No handles with labels found to put in legend.\n"
          ],
          "name": "stderr"
        },
        {
          "output_type": "display_data",
          "data": {
            "image/png": "[encoded data removed]",
            "text/plain": [
              "<Figure size 432x288 with 1 Axes>"
            ]
          },
          "metadata": {
            "tags": []
          }
        }
      ]
    }
  ]
}