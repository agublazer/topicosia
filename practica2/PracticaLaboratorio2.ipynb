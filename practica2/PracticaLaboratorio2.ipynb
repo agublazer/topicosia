{
  "nbformat": 4,
  "nbformat_minor": 0,
  "metadata": {
    "colab": {
      "name": "PracticaLaboratorio2.ipynb",
      "provenance": [],
      "collapsed_sections": []
    },
    "kernelspec": {
      "name": "python3",
      "display_name": "Python 3"
    }
  },
  "cells": [
    {
      "cell_type": "markdown",
      "metadata": {
        "id": "MlZzT9_3LTPM"
      },
      "source": [
        "## Funciones"
      ]
    },
    {
      "cell_type": "code",
      "metadata": {
        "id": "Hxx0TeUGLOWD"
      },
      "source": [
        "import pandas as pd\n",
        "import numpy as np\n",
        "import matplotlib.pyplot as plt\n",
        "\n",
        "\n",
        "def Leer_Datos(path, separator=',', only_cols=[], head=None, col='', mapdict={}):   \n",
        "    data = pd.read_csv(path, sep=separator)\n",
        "\n",
        "    # Mantener solo las columnas a utilizar\n",
        "    if only_cols:\n",
        "        data = data[only_cols]\n",
        "\n",
        "    # data = data.sort_values(by=[col])\n",
        "\n",
        "    # Reemplazar valores str 'yes'/ 'no'\n",
        "    # print(data)\n",
        "    data = data.replace(mapdict)\n",
        "    # print(data)\n",
        "\n",
        "    # Eliminar filas con nan\n",
        "    data = data.dropna()\n",
        "    return  data.values\n",
        "\n",
        "def Normalizar_Datos(array):\n",
        "    tmp = np.array(array[:,-1])\n",
        "    p = np.mean(array, axis=0)\n",
        "    d = np.std(array, axis=0)\n",
        "    for i in range(0,array.shape[0]):\n",
        "        array[i] = np.true_divide((array[i]-p),d)\n",
        "    array[:,-1] = tmp[:]\n",
        "    return array\n",
        "\n",
        "def Sigmodial(X, theta):\n",
        "    hipotesis = X.dot(theta.T)\n",
        "    z = 1/(1+np.exp(-hipotesis))\n",
        "    return z\n",
        "\n",
        "def Calcular_costo(X,Y,theta):\n",
        "    tam = len(X)\n",
        "    hipotesis = (Sigmodial(X,theta))\n",
        "    a = np.log(hipotesis) * Y\n",
        "    b = np.log(1-hipotesis)*(1-Y)\n",
        "    costo = np.sum(a+b)*(-1/tam)\n",
        "    return costo\n",
        "\n",
        "def Gradiente(X,Y,theta):\n",
        "    tam = len(X)\n",
        "    hipotesis = Sigmodial(X,theta)\n",
        "    resta = hipotesis - Y\n",
        "    derivada = np.dot(X.T, resta) / tam\n",
        "    return derivada\n",
        "\n",
        "def Gradiente_descendiente(X,Y,theta,iteraciones,tasa):\n",
        "    costos = [0]*iteraciones\n",
        "    for i in range(iteraciones):\n",
        "        derivada = Gradiente(X,Y,theta)\n",
        "        theta = theta -(tasa * derivada).T\n",
        "        costos[i] = Calcular_costo(X,Y,theta)\n",
        "    return theta,costos\n",
        "\n",
        "def Accuracy(X,Y,theta):\n",
        "    y_p = np.rint(Sigmodial(X,theta))\n",
        "    cont = 0\n",
        "    for i in (Y-y_p):\n",
        "        if(i==0):\n",
        "            cont = cont+1\n",
        "    porcentaje = (cont/len(Y))*100\n",
        "    return porcentaje\n",
        "\n",
        "# Funciones k folds\n",
        "def count_classes(data):\n",
        "    class1 = []\n",
        "    class2 = []\n",
        "    total = 0\n",
        "    for row in data:\n",
        "        if row[-1] == True:\n",
        "            class1.append(row)\n",
        "        if row[-1] == False:\n",
        "            class2.append(row)\n",
        "        total += 1\n",
        "    return total, class1, class2\n",
        "\n",
        "def Crear_k_folds(data, k):\n",
        "    total, class1, class2 = count_classes(data)\n",
        "    print('Crear k folds: ', k)\n",
        "    print('total: ', total, ' clase1: ', len(class1), ' clase2: ', len(class2))\n",
        "    folds_class1 = np.array_split(class1, k)\n",
        "    folds_class2 = np.array_split(class2, k)\n",
        "    results = [0]*3\n",
        "    for i in range(k):\n",
        "        results[i] = np.concatenate((folds_class1[i], folds_class2[i]))\n",
        "        ret = count_classes(results[i])\n",
        "        print('fold #', i, ' total elementos: ', ret[0], ' clase1: ', len(ret[1]), ' clase2: ', len(ret[2]))\n",
        "\n",
        "    return results\n",
        "\n",
        "def Crear_Conjuntos(folds, i):\n",
        "    test = folds[i]\n",
        "    train = np.array([])\n",
        "    for it in range(len(folds)):\n",
        "        if it != i:\n",
        "            # train = np.concatenate((train, folds[it]))\n",
        "            if len(train) == 0:\n",
        "                train = folds[it]\n",
        "            else:\n",
        "                train = np.concatenate((train, folds[it]))\n",
        "  \n",
        "    return test, train"
      ],
      "execution_count": 179,
      "outputs": []
    },
    {
      "cell_type": "markdown",
      "metadata": {
        "id": "Zr7c4wwLHxS0"
      },
      "source": [
        "## Experimentos"
      ]
    },
    {
      "cell_type": "markdown",
      "metadata": {
        "id": "eG0El4VU-G8S"
      },
      "source": [
        "#### Conjunto 1 - Clima Australia"
      ]
    },
    {
      "cell_type": "code",
      "metadata": {
        "id": "76aLXJhZE9yk",
        "outputId": "f6d8c595-15bc-4781-96f5-a793f1ed3c5d",
        "colab": {
          "base_uri": "https://localhost:8080/",
          "height": 1000
        }
      },
      "source": [
        "# Conjunto 1 - Clima Australia\n",
        "data = Leer_Datos(\n",
        "    'https://raw.githubusercontent.com/agublazer/topicosia/master/practica2/data/weatherAUS.csv',\n",
        "    ',',\n",
        "    ['MinTemp', 'MaxTemp', 'RainToday', 'RainTomorrow'],\n",
        "    0,\n",
        "    'RainTomorrow',\n",
        "    {'RainToday': {'Yes': 1, 'No': 0}, 'RainTomorrow': {'Yes': 1, 'No': 0}}\n",
        ")\n",
        "\n",
        "data = Normalizar_Datos(data)\n",
        "folds = Crear_k_folds(data, 3)\n",
        "\n",
        "iterations = [500, 1000, 1500, 2000, 2500, 3000, 3500]\n",
        "learning_rate = [0.01, 0.05, 0.1, 0.2, 0.3, 0.4]\n",
        "k = 3\n",
        "\n",
        "param_shape = (len(learning_rate),len(iterations))\n",
        "param_table = np.zeros(param_shape)\n",
        "\n",
        "for i in range(k):\n",
        "    test_set, train_set = Crear_Conjuntos(folds, i)\n",
        "    train_x, train_y  = train_set[:, 0:-1], train_set[:, -1:]\n",
        "    test_x, test_y =  test_set[:, 0:-1], test_set[:, -1:]\n",
        "     \n",
        "    train_x = np.insert(train_x, 0, 1, axis=1)\n",
        "    test_x = np.insert(test_x, 0, 1, axis=1)\n",
        "    thetas = np.zeros(train_x.shape[1])[np.newaxis]\n",
        "\n",
        "    for lr in range(len(learning_rate)):\n",
        "        for it in range(len(iterations)):\n",
        "            theta_actual, _ = Gradiente_descendiente(train_x, train_y, thetas, iterations[it], learning_rate[lr])\n",
        "            param_table[lr, it] += Accuracy(test_x, test_y, theta_actual)\n",
        "    \n",
        "        print('learning_rate ', lr, ' done')\n",
        "\n",
        "    print(param_table)\n",
        "\n",
        "\n",
        "param_table = param_table/k\n",
        "\n",
        "final_df = pd.DataFrame(data=param_table, index = learning_rate, columns=iterations)\n",
        "\n",
        "print('=========== Resultados - Conjunto 1 ==========')\n",
        "print (final_df)\n",
        "\n",
        "id_1, id_2 = np.where(param_table == param_table.min())  # hallar indices de elemento minimo\n",
        "if len(id_1) > 1:  # si hay mas de un minimo imprimimos el primero\n",
        "    id_1 = id_1[0]\n",
        "    id_2 = id_2[0]\n",
        "\n",
        "print('================ Parámetros ==================')\n",
        "print ('Minimo: ', param_table.min())\n",
        "print ('Learning rate: ', learning_rate[int(id_1)])\n",
        "print ('Iterations: ', iterations[int(id_2)])\n",
        "\n",
        "\n"
      ],
      "execution_count": 192,
      "outputs": [
        {
          "output_type": "stream",
          "text": [
            "Crear k folds:  3\n",
            "total:  140086  clase1:  31054  clase2:  109032\n",
            "fold # 0  total elementos:  46696  clase1:  10352  clase2:  36344\n",
            "fold # 1  total elementos:  46695  clase1:  10351  clase2:  36344\n",
            "fold # 2  total elementos:  46695  clase1:  10351  clase2:  36344\n",
            "learning_rate  0  done\n",
            "learning_rate  1  done\n",
            "learning_rate  2  done\n",
            "learning_rate  3  done\n",
            "learning_rate  4  done\n",
            "learning_rate  5  done\n",
            "[[80.2509851  80.33878705 80.31737194 80.31523043 80.26169265 80.2509851\n",
            "  80.25955114]\n",
            " [80.26169265 80.17174919 80.16318314 80.1738907  80.17817372 80.18888127\n",
            "  80.18673976]\n",
            " [80.17174919 80.1738907  80.18888127 80.19530581 80.19958883 80.1931643\n",
            "  80.19530581]\n",
            " [80.1738907  80.19530581 80.1931643  80.19744732 80.19744732 80.19744732\n",
            "  80.19744732]\n",
            " [80.19102279 80.1931643  80.19744732 80.19744732 80.19744732 80.19744732\n",
            "  80.19744732]\n",
            " [80.19530581 80.19744732 80.19744732 80.19744732 80.19744732 80.19744732\n",
            "  80.19744732]]\n",
            "learning_rate  0  done\n",
            "learning_rate  1  done\n",
            "learning_rate  2  done\n",
            "learning_rate  3  done\n",
            "learning_rate  4  done\n",
            "learning_rate  5  done\n",
            "[[158.67265765 159.69631997 160.02826175 160.07109294 160.01327205\n",
            "  160.00042294 160.03468766]\n",
            " [160.01327205 159.95116882 159.931895   159.96187656 159.97258426\n",
            "  159.9939996  159.99828276]\n",
            " [159.95116882 159.96187656 159.9939996  160.01113191 160.01541494\n",
            "  160.01113196 160.01541503]\n",
            " [159.96187656 160.01113191 160.01327352 160.01755654 160.01755654\n",
            "  160.01755654 160.01755654]\n",
            " [159.99614111 160.01327352 160.01755654 160.01755654 160.01755654\n",
            "  160.01755654 160.01755654]\n",
            " [160.01113191 160.01755654 160.01755654 160.01755654 160.01755654\n",
            "  160.01755654 160.01755654]]\n",
            "learning_rate  0  done\n",
            "learning_rate  1  done\n",
            "learning_rate  2  done\n",
            "learning_rate  3  done\n",
            "learning_rate  4  done\n",
            "learning_rate  5  done\n",
            "[[237.27636254 238.681222   239.32583109 239.48216479 239.52499707\n",
            "  239.61065958 239.71773724]\n",
            " [239.52499707 239.68775732 239.69846529 239.76271177 239.80768437\n",
            "  239.8547984  239.86978934]\n",
            " [239.68775732 239.76271177 239.8547984  239.89334628 239.89548775\n",
            "  239.90833723 239.91476185]\n",
            " [239.76271177 239.89334628 239.91047878 239.91690336 239.91690336\n",
            "  239.91690336 239.91690336]\n",
            " [239.85479835 239.91047878 239.91690336 239.91690336 239.91690336\n",
            "  239.91690336 239.91690336]\n",
            " [239.89334628 239.91690336 239.91690336 239.91690336 239.91690336\n",
            "  239.91690336 239.91690336]]\n",
            "=========== Resultados - Conjunto 1 ==========\n",
            "           500        1000       1500  ...       2500       3000       3500\n",
            "0.01  79.092121  79.560407  79.775277  ...  79.841666  79.870220  79.905912\n",
            "0.05  79.841666  79.895919  79.899488  ...  79.935895  79.951599  79.956596\n",
            "0.10  79.895919  79.920904  79.951599  ...  79.965163  79.969446  79.971587\n",
            "0.20  79.920904  79.964449  79.970160  ...  79.972301  79.972301  79.972301\n",
            "0.30  79.951599  79.970160  79.972301  ...  79.972301  79.972301  79.972301\n",
            "0.40  79.964449  79.972301  79.972301  ...  79.972301  79.972301  79.972301\n",
            "\n",
            "[6 rows x 7 columns]\n",
            "================ Parámetros ==================\n",
            "Minimo:  79.09212084816293\n",
            "Learning rate:  0.01\n",
            "Iterations:  500\n"
          ],
          "name": "stdout"
        }
      ]
    },
    {
      "cell_type": "code",
      "metadata": {
        "id": "gZpmKs7LHwLs",
        "outputId": "2ae489e0-03a9-4af3-9cb4-f93d61d0e7b6",
        "colab": {
          "base_uri": "https://localhost:8080/",
          "height": 357
        }
      },
      "source": [
        "pd.set_option(\"display.max_rows\", None, \"display.max_columns\", None)\n",
        "print('=========== Resultados - Conjunto 1 ==========')\n",
        "print (final_df)\n",
        "\n",
        "id_1, id_2 = np.where(param_table == param_table.min())  # hallar indices de elemento minimo\n",
        "if len(id_1) > 1:  # si hay mas de un minimo imprimimos el primero\n",
        "    id_1 = id_1[0]\n",
        "    id_2 = id_2[0]\n",
        "\n",
        "print('================ Parámetros ==================')\n",
        "print ('Minimo: ', param_table.min())\n",
        "print ('Learning rate: ', learning_rate[int(id_1)])\n",
        "print ('Iterations: ', iterations[int(id_2)])\n",
        "\n",
        "    \n"
      ],
      "execution_count": 201,
      "outputs": [
        {
          "output_type": "stream",
          "text": [
            "=========== Resultados - Conjunto 1 ==========\n",
            "           500        1000       1500       2000       2500       3000  \\\n",
            "0.01  79.092121  79.560407  79.775277  79.827388  79.841666  79.870220   \n",
            "0.05  79.841666  79.895919  79.899488  79.920904  79.935895  79.951599   \n",
            "0.10  79.895919  79.920904  79.951599  79.964449  79.965163  79.969446   \n",
            "0.20  79.920904  79.964449  79.970160  79.972301  79.972301  79.972301   \n",
            "0.30  79.951599  79.970160  79.972301  79.972301  79.972301  79.972301   \n",
            "0.40  79.964449  79.972301  79.972301  79.972301  79.972301  79.972301   \n",
            "\n",
            "           3500  \n",
            "0.01  79.905912  \n",
            "0.05  79.956596  \n",
            "0.10  79.971587  \n",
            "0.20  79.972301  \n",
            "0.30  79.972301  \n",
            "0.40  79.972301  \n",
            "================ Parámetros ==================\n",
            "Minimo:  79.09212084816293\n",
            "Learning rate:  0.01\n",
            "Iterations:  500\n"
          ],
          "name": "stdout"
        }
      ]
    },
    {
      "cell_type": "code",
      "metadata": {
        "id": "5aLh1xG7Wjti",
        "outputId": "103609df-bcde-4ef1-cf5b-5c9d66c6a920",
        "colab": {
          "base_uri": "https://localhost:8080/",
          "height": 896
        }
      },
      "source": [
        "#Experimento 2\n",
        "data = Leer_Datos(\n",
        "    'https://raw.githubusercontent.com/agublazer/topicosia/master/practica2/data/weatherAUS.csv',\n",
        "    ',',\n",
        "    ['MinTemp', 'MaxTemp', 'RainToday', 'RainTomorrow'],\n",
        "    0,\n",
        "    'RainTomorrow',\n",
        "    {'RainToday': {'Yes': 1, 'No': 0}, 'RainTomorrow': {'Yes': 1, 'No': 0}}\n",
        ")\n",
        "\n",
        "data = Normalizar_Datos(data)\n",
        "folds = Crear_k_folds(data, 3)\n",
        "colors = [\"red\",\"green\",\"blue\"]\n",
        "k = 3\n",
        "for i in range(k):\n",
        "    train_set_1, test_set_1 = Crear_Conjuntos(folds, i)\n",
        "    train_1_x, train_1_y  = train_set_1[:, 0:-1], train_set_1[:, -1:]\n",
        "\n",
        "    train_1_x = np.insert(train_1_x, 0, 1, axis=1)\n",
        "    test_1_x = np.insert(test_1_x, 0, 1, axis=1)\n",
        "\n",
        "    thetas_1 = np.zeros(train_1_x.shape[1])[np.newaxis]\n",
        "\n",
        "    _, costos_1 = Gradiente_descendiente(train_1_x, train_1_y, thetas_1, 500, 0.01)\n",
        "    plt.scatter(np.arange(500), costos_1, alpha=0.2, c=colors[i], s=2)\n",
        "    plt.xlabel('iteraciones')\n",
        "    plt.ylabel('Costos')\n",
        "    plt.xlabel('Costo C1')\n",
        "    plt.show()\n",
        "  "
      ],
      "execution_count": 219,
      "outputs": [
        {
          "output_type": "stream",
          "text": [
            "Crear k folds:  3\n",
            "total:  140086  clase1:  31054  clase2:  109032\n",
            "fold # 0  total elementos:  46696  clase1:  10352  clase2:  36344\n",
            "fold # 1  total elementos:  46695  clase1:  10351  clase2:  36344\n",
            "fold # 2  total elementos:  46695  clase1:  10351  clase2:  36344\n"
          ],
          "name": "stdout"
        },
        {
          "output_type": "display_data",
          "data": {
            "image/png": "[encoded data removed]",
            "text/plain": [
              "<Figure size 432x288 with 1 Axes>"
            ]
          },
          "metadata": {
            "tags": [],
            "needs_background": "light"
          }
        },
        {
          "output_type": "display_data",
          "data": {
            "image/png": "[encoded data removed]",
            "text/plain": [
              "<Figure size 432x288 with 1 Axes>"
            ]
          },
          "metadata": {
            "tags": [],
            "needs_background": "light"
          }
        },
        {
          "output_type": "display_data",
          "data": {
            "image/png": "[encoded data removed]",
            "text/plain": [
              "<Figure size 432x288 with 1 Axes>"
            ]
          },
          "metadata": {
            "tags": [],
            "needs_background": "light"
          }
        }
      ]
    },
    {
      "cell_type": "markdown",
      "metadata": {
        "id": "sfpK5ZVZalwg"
      },
      "source": [
        "#### Conjunto 2 - Titanic"
      ]
    },
    {
      "cell_type": "code",
      "metadata": {
        "id": "QPKVZx9CbZtp",
        "outputId": "09d7c8de-d9c3-447d-d6e6-1bfdb18d2529",
        "colab": {
          "base_uri": "https://localhost:8080/",
          "height": 306
        }
      },
      "source": [
        "# Procesar datos\n",
        "pd.set_option(\"display.max_rows\", 10)\n",
        "pd.set_option(\"display.max_columns\", 5)\n",
        "file1 = pd.read_csv('https://raw.githubusercontent.com/agublazer/topicosia/master/practica2/data/titanic_test.csv')\n",
        "file2 = pd.read_csv('https://raw.githubusercontent.com/agublazer/topicosia/master/practica2/data/titanic_train.csv')\n",
        "ids = pd.read_csv('https://raw.githubusercontent.com/agublazer/topicosia/master/practica2/data/gender_submission.csv')\n",
        "\n",
        "# Unir conjunto de test con atributo Survived\n",
        "file1 = pd.concat([file1, ids], axis=1, join=\"inner\")\n",
        "\n",
        "# Quitar atributos innecesarios y unir ambos archivos\n",
        "file1 = file1[['Sex', 'Age', 'Fare', 'Embarked', 'Survived']]\n",
        "file2 = file2[['Sex', 'Age', 'Fare', 'Embarked', 'Survived']]\n",
        "full_df = pd.concat([file1, file2])\n",
        "\n",
        "mapdict = {'Embarked': {'Q': 0, 'S': 1, 'C': 2}, 'Sex': {'male': 1, 'female': 0}}\n",
        "full_df = full_df.replace(mapdict)\n",
        "\n",
        "full_df = full_df.dropna()\n",
        "print(full_df)\n",
        "print(full_df.Survived.unique())\n",
        "print(full_df.Embarked.unique())\n",
        "print(full_df.Sex.unique())\n",
        "\n",
        "full_df = full_df.values\n"
      ],
      "execution_count": 257,
      "outputs": [
        {
          "output_type": "stream",
          "text": [
            "     Sex   Age     Fare  Embarked  Survived\n",
            "0      1  34.5   7.8292       0.0         0\n",
            "1      0  47.0   7.0000       1.0         1\n",
            "2      1  62.0   9.6875       0.0         0\n",
            "3      1  27.0   8.6625       1.0         0\n",
            "4      0  22.0  12.2875       1.0         1\n",
            "..   ...   ...      ...       ...       ...\n",
            "885    0  39.0  29.1250       0.0         0\n",
            "886    1  27.0  13.0000       1.0         0\n",
            "887    0  19.0  30.0000       1.0         1\n",
            "889    1  26.0  30.0000       2.0         1\n",
            "890    1  32.0   7.7500       0.0         0\n",
            "\n",
            "[1043 rows x 5 columns]\n",
            "[0 1]\n",
            "[0. 1. 2.]\n",
            "[1 0]\n"
          ],
          "name": "stdout"
        }
      ]
    },
    {
      "cell_type": "code",
      "metadata": {
        "id": "xRQO2Ui3plD-",
        "outputId": "084b799e-6d08-4d41-cbfc-3f34da6dfd75",
        "colab": {
          "base_uri": "https://localhost:8080/",
          "height": 1000
        }
      },
      "source": [
        "data = Normalizar_Datos(full_df)\n",
        "folds = Crear_k_folds(data, 3)\n",
        "\n",
        "iterations = [500, 1000, 1500, 2000, 2500, 3000, 3500]\n",
        "learning_rate = [0.01, 0.05, 0.1, 0.2, 0.3, 0.4]\n",
        "k = 3\n",
        "\n",
        "param_shape = (len(learning_rate),len(iterations))\n",
        "param_table = np.zeros(param_shape)\n",
        "\n",
        "for i in range(k):\n",
        "    test_set, train_set = Crear_Conjuntos(folds, i)\n",
        "    train_x, train_y  = train_set[:, 0:-1], train_set[:, -1:]\n",
        "    test_x, test_y =  test_set[:, 0:-1], test_set[:, -1:]\n",
        "     \n",
        "    train_x = np.insert(train_x, 0, 1, axis=1)\n",
        "    test_x = np.insert(test_x, 0, 1, axis=1)\n",
        "    thetas = np.zeros(train_x.shape[1])[np.newaxis]\n",
        "\n",
        "    for lr in range(len(learning_rate)):\n",
        "        for it in range(len(iterations)):\n",
        "            theta_actual, _ = Gradiente_descendiente(train_x, train_y, thetas, iterations[it], learning_rate[lr])\n",
        "            param_table[lr, it] += Accuracy(test_x, test_y, theta_actual)\n",
        "    \n",
        "        print('learning_rate ', lr, ' done')\n",
        "\n",
        "    print(param_table)\n",
        "\n",
        "\n",
        "param_table = param_table/k\n",
        "\n",
        "final_df = pd.DataFrame(data=param_table, index = learning_rate, columns=iterations)\n",
        "\n",
        "pd.set_option(\"display.max_rows\", 10)\n",
        "pd.set_option(\"display.max_columns\", 10)\n",
        "\n",
        "print('=========== Resultados - Conjunto 2 ==========')\n",
        "print (final_df)\n",
        "\n",
        "id_1, id_2 = np.where(param_table == param_table.min())  # hallar indices de elemento minimo\n",
        "if len(id_1) > 1:  # si hay mas de un minimo imprimimos el primero\n",
        "    id_1 = id_1[0]\n",
        "    id_2 = id_2[0]\n",
        "\n",
        "print('================ Parámetros ==================')\n",
        "print ('Minimo: ', param_table.min())\n",
        "print ('Learning rate: ', learning_rate[int(id_1)])\n",
        "print ('Iterations: ', iterations[int(id_2)])\n",
        "\n",
        "\n"
      ],
      "execution_count": 260,
      "outputs": [
        {
          "output_type": "stream",
          "text": [
            "Crear k folds:  3\n",
            "total:  1043  clase1:  415  clase2:  628\n",
            "fold # 0  total elementos:  349  clase1:  139  clase2:  210\n",
            "fold # 1  total elementos:  347  clase1:  138  clase2:  209\n",
            "fold # 2  total elementos:  347  clase1:  138  clase2:  209\n",
            "learning_rate  0  done\n",
            "learning_rate  1  done\n",
            "learning_rate  2  done\n",
            "learning_rate  3  done\n",
            "learning_rate  4  done\n",
            "learning_rate  5  done\n",
            "[[94.55587393 94.84240688 94.84240688 94.55587393 94.26934097 94.26934097\n",
            "  94.26934097]\n",
            " [94.26934097 94.26934097 94.26934097 94.26934097 94.26934097 94.26934097\n",
            "  94.26934097]\n",
            " [94.26934097 94.26934097 94.26934097 94.26934097 94.26934097 94.26934097\n",
            "  94.26934097]\n",
            " [94.26934097 94.26934097 94.26934097 94.26934097 94.26934097 94.26934097\n",
            "  94.26934097]\n",
            " [94.26934097 94.26934097 94.26934097 94.26934097 94.26934097 94.26934097\n",
            "  94.26934097]\n",
            " [94.26934097 94.26934097 94.26934097 94.26934097 94.26934097 94.26934097\n",
            "  94.26934097]]\n",
            "learning_rate  0  done\n",
            "learning_rate  1  done\n",
            "learning_rate  2  done\n",
            "learning_rate  3  done\n",
            "learning_rate  4  done\n",
            "learning_rate  5  done\n",
            "[[171.78930332 172.36402071 172.36402071 172.07748776 171.79095481\n",
            "  171.79095481 171.79095481]\n",
            " [171.79095481 171.79095481 171.79095481 171.79095481 171.79095481\n",
            "  171.79095481 171.79095481]\n",
            " [171.79095481 171.79095481 171.79095481 171.79095481 171.79095481\n",
            "  171.79095481 171.79095481]\n",
            " [171.79095481 171.79095481 171.79095481 171.79095481 171.79095481\n",
            "  171.79095481 171.79095481]\n",
            " [171.79095481 171.79095481 171.79095481 171.79095481 171.79095481\n",
            "  171.79095481 171.79095481]\n",
            " [171.79095481 171.79095481 171.79095481 171.79095481 171.79095481\n",
            "  171.79095481 171.79095481]]\n",
            "learning_rate  0  done\n",
            "learning_rate  1  done\n",
            "learning_rate  2  done\n",
            "learning_rate  3  done\n",
            "learning_rate  4  done\n",
            "learning_rate  5  done\n",
            "[[249.88728603 250.46200342 250.46200342 250.17547047 249.88893752\n",
            "  249.88893752 249.88893752]\n",
            " [249.88893752 249.88893752 249.88893752 249.88893752 249.88893752\n",
            "  249.88893752 249.88893752]\n",
            " [249.88893752 249.88893752 249.88893752 249.88893752 249.88893752\n",
            "  249.88893752 249.88893752]\n",
            " [249.88893752 249.88893752 249.88893752 249.88893752 249.88893752\n",
            "  249.88893752 249.88893752]\n",
            " [249.88893752 249.88893752 249.88893752 249.88893752 249.88893752\n",
            "  249.88893752 249.88893752]\n",
            " [249.88893752 249.88893752 249.88893752 249.88893752 249.88893752\n",
            "  249.88893752 249.88893752]]\n",
            "=========== Resultados - Conjunto 1 ==========\n",
            "           500        1000       1500       2000       2500       3000  \\\n",
            "0.01  83.295762  83.487334  83.487334  83.391823  83.296313  83.296313   \n",
            "0.05  83.296313  83.296313  83.296313  83.296313  83.296313  83.296313   \n",
            "0.10  83.296313  83.296313  83.296313  83.296313  83.296313  83.296313   \n",
            "0.20  83.296313  83.296313  83.296313  83.296313  83.296313  83.296313   \n",
            "0.30  83.296313  83.296313  83.296313  83.296313  83.296313  83.296313   \n",
            "0.40  83.296313  83.296313  83.296313  83.296313  83.296313  83.296313   \n",
            "\n",
            "           3500  \n",
            "0.01  83.296313  \n",
            "0.05  83.296313  \n",
            "0.10  83.296313  \n",
            "0.20  83.296313  \n",
            "0.30  83.296313  \n",
            "0.40  83.296313  \n",
            "================ Parámetros ==================\n",
            "Minimo:  83.29576200974928\n",
            "Learning rate:  0.01\n",
            "Iterations:  500\n"
          ],
          "name": "stdout"
        }
      ]
    },
    {
      "cell_type": "code",
      "metadata": {
        "id": "-pp21bGVrjZy",
        "outputId": "05f2ee09-e41f-4021-e8d6-144a950e15df",
        "colab": {
          "base_uri": "https://localhost:8080/",
          "height": 809
        }
      },
      "source": [
        "k = 3\n",
        "for i in range(k):\n",
        "    train_set_2, test_set_2 = Crear_Conjuntos(folds, i)\n",
        "    train_2_x, train_2_y  = train_set_2[:, 0:-1], train_set_2[:, -1:]\n",
        "\n",
        "    train_2_x = np.insert(train_2_x, 0, 1, axis=1)\n",
        "\n",
        "    thetas_2 = np.zeros(train_2_x.shape[1])[np.newaxis]\n",
        "\n",
        "    _, costos_2 = Gradiente_descendiente(train_2_x, train_2_y, thetas_2, 500, 0.01)\n",
        "    plt.scatter(np.arange(500), costos_2, alpha=0.2, c=colors[i], s=2)\n",
        "    plt.xlabel('iteraciones')\n",
        "    plt.ylabel('Costos')\n",
        "    plt.xlabel('Costo C2')\n",
        "    plt.show()\n",
        "  "
      ],
      "execution_count": 262,
      "outputs": [
        {
          "output_type": "display_data",
          "data": {
            "image/png": "[encoded data removed]",
            "text/plain": [
              "<Figure size 432x288 with 1 Axes>"
            ]
          },
          "metadata": {
            "tags": [],
            "needs_background": "light"
          }
        },
        {
          "output_type": "display_data",
          "data": {
            "image/png": "[encoded data removed]",
            "text/plain": [
              "<Figure size 432x288 with 1 Axes>"
            ]
          },
          "metadata": {
            "tags": [],
            "needs_background": "light"
          }
        },
        {
          "output_type": "display_data",
          "data": {
            "image/png": "[encoded data removed]",
            "text/plain": [
              "<Figure size 432x288 with 1 Axes>"
            ]
          },
          "metadata": {
            "tags": [],
            "needs_background": "light"
          }
        }
      ]
    }
  ]
}