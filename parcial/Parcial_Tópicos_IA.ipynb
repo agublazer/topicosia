{
  "nbformat": 4,
  "nbformat_minor": 0,
  "metadata": {
    "colab": {
      "name": "Parcial Tópicos IA ",
      "provenance": [],
      "collapsed_sections": []
    },
    "kernelspec": {
      "name": "python3",
      "display_name": "Python 3"
    }
  },
  "cells": [
    {
      "cell_type": "markdown",
      "metadata": {
        "id": "GkEiXQ_Ipvic"
      },
      "source": [
        "## 1. Panorama general\n",
        "#####  **Objetivo**: Crear una herramienta que permita realizar una estimación de casos positivos y número de muertes en una determinada fecha.\n",
        "##### **Metodología**: El enfoque a usar será el de aprendizaje supervisado. Se separarán los conjuntos de entrenamiento y de prueba en base a la fecha de los registros.\n",
        "\n",
        "##### **Online**: Porque la data se toma directamente del repositorio, que se actualiza cada cierto tiempo.\n",
        "\n"
      ]
    },
    {
      "cell_type": "markdown",
      "metadata": {
        "id": "Lc8pKEiFsyaR"
      },
      "source": [
        "## 2. Datos\n",
        "##### Datos proporcionados contienen información histórica desde el 06-03-2020 hasta el 17-10-2020"
      ]
    },
    {
      "cell_type": "code",
      "metadata": {
        "id": "sKBXsdQgnCrL"
      },
      "source": [
        "import pandas as pd\n",
        "import numpy as np\n",
        "import matplotlib.pyplot as plt\n",
        "import datetime\n",
        "from pylab import *\n",
        "\n",
        "data = pd.read_csv(\n",
        "    'https://raw.githubusercontent.com/jmcastagnetto/covid-19-peru-data/main/datos/covid-19-peru-data.csv',\n",
        "    sep = ',',\n",
        "    header = 0\n",
        ")\n"
      ],
      "execution_count": null,
      "outputs": []
    },
    {
      "cell_type": "markdown",
      "metadata": {
        "id": "2tErOIsrtWHx"
      },
      "source": [
        "## 3. Explorar los datos"
      ]
    },
    {
      "cell_type": "code",
      "metadata": {
        "id": "V-BPmFH7oZ2A",
        "outputId": "25824c15-e556-474e-8061-4d93da83487d",
        "colab": {
          "base_uri": "https://localhost:8080/",
          "height": 357
        }
      },
      "source": [
        "pd.set_option('max_columns', 10)\n",
        "pd.set_option('display.width', 150)\n",
        "pd.options.display.float_format = '{:,.3f}'.format\n",
        "data_exploration = data.copy()\n",
        "print(data_exploration.info())\n",
        "# Podemos descartar las columnas que tienen la menor cantidad de non-nulls"
      ],
      "execution_count": null,
      "outputs": [
        {
          "output_type": "stream",
          "text": [
            "<class 'pandas.core.frame.DataFrame'>\n",
            "RangeIndex: 5612 entries, 0 to 5611\n",
            "Data columns (total 12 columns):\n",
            " #   Column                         Non-Null Count  Dtype  \n",
            "---  ------                         --------------  -----  \n",
            " 0   country                        5612 non-null   object \n",
            " 1   iso3c                          5612 non-null   object \n",
            " 2   region                         5385 non-null   object \n",
            " 3   date                           5612 non-null   object \n",
            " 4   confirmed                      5456 non-null   float64\n",
            " 5   deaths                         4858 non-null   float64\n",
            " 6   recovered                      245 non-null    float64\n",
            " 7   total_tests                    4321 non-null   float64\n",
            " 8   negative_tests                 4353 non-null   float64\n",
            " 9   pcr_test_positive              4965 non-null   float64\n",
            " 10  serological_test_positive      4901 non-null   float64\n",
            " 11  pcr_serological_test_positive  24 non-null     float64\n",
            "dtypes: float64(8), object(4)\n",
            "memory usage: 526.2+ KB\n",
            "None\n"
          ],
          "name": "stdout"
        }
      ]
    },
    {
      "cell_type": "code",
      "metadata": {
        "id": "9ahHnSP0vbgp",
        "outputId": "ed4903e9-e717-4eb0-ba59-49c02d0bc22d",
        "colab": {
          "base_uri": "https://localhost:8080/",
          "height": 605
        }
      },
      "source": [
        "print(data.describe())\n",
        "\n",
        "print('Datos con mayor cantidad de null')\n",
        "null_features = data_exploration.isnull().sum()\n",
        "null_features = null_features[null_features > 0]\n",
        "null_features.sort_values(inplace=True)\n",
        "null_features.plot.bar()"
      ],
      "execution_count": null,
      "outputs": [
        {
          "output_type": "stream",
          "text": [
            "        confirmed     deaths   recovered   total_tests  negative_tests  pcr_test_positive  serological_test_positive  pcr_serological_test_positive\n",
            "count   5,456.000  4,858.000     245.000     4,321.000       4,353.000          4,965.000                  4,901.000                         24.000\n",
            "mean   27,142.969  1,226.346 223,815.449   178,890.023     143,763.193          7,186.165                 22,377.553                         34.583\n",
            "std    95,701.768  4,150.652 246,506.639   534,596.049     427,699.351         25,674.309                 73,538.358                         72.926\n",
            "min         1.000      1.000       1.000     3,250.000    -276,758.000              1.000                      1.000                          1.000\n",
            "25%       595.250     27.000   6,811.000    23,249.000      19,356.000            175.000                    928.000                          1.750\n",
            "50%     4,779.500    194.000 135,520.000    45,395.000      36,783.000            884.000                  4,998.000                          3.000\n",
            "75%    15,183.750    704.000 377,453.000    84,930.000      67,120.000          2,566.000                 13,997.000                          6.250\n",
            "max   870,876.000 33,820.000 784,056.000 4,249,458.000   3,378,582.000        196,685.000                674,191.000                        231.000\n",
            "Datos con mayor cantidad de null\n"
          ],
          "name": "stdout"
        },
        {
          "output_type": "execute_result",
          "data": {
            "text/plain": [
              "<matplotlib.axes._subplots.AxesSubplot at 0x7f3f7b4fd748>"
            ]
          },
          "metadata": {
            "tags": []
          },
          "execution_count": 105
        },
        {
          "output_type": "display_data",
          "data": {
            "image/png": "[encoded data removed]",
            "text/plain": [
              "<Figure size 432x288 with 1 Axes>"
            ]
          },
          "metadata": {
            "tags": [],
            "needs_background": "light"
          }
        }
      ]
    },
    {
      "cell_type": "code",
      "metadata": {
        "id": "Hh3MgwsICpEm",
        "outputId": "8c6fd700-ef91-4144-eefb-8707aa4dfe73",
        "colab": {
          "base_uri": "https://localhost:8080/",
          "height": 605
        }
      },
      "source": [
        "%matplotlib inline\n",
        "import matplotlib.pyplot as plt\n",
        "data_exploration.hist(bins=50, figsize=(30,15))\n",
        "# Refleja la distribución obtenida anteriormente\n",
        "plt.show()"
      ],
      "execution_count": null,
      "outputs": [
        {
          "output_type": "display_data",
          "data": {
            "image/png": "[encoded data removed]",
            "text/plain": [
              "<Figure size 2160x1080 with 9 Axes>"
            ]
          },
          "metadata": {
            "tags": [],
            "needs_background": "light"
          }
        }
      ]
    },
    {
      "cell_type": "code",
      "metadata": {
        "id": "QKlpHyMDEjM0",
        "outputId": "bb21b618-043b-4889-c27a-531cbc8db203",
        "colab": {
          "base_uri": "https://localhost:8080/",
          "height": 102
        }
      },
      "source": [
        "# Correlacion variables\n",
        "from scipy import stats\n",
        "\n",
        "# convertir date a int\n",
        "data_exploration = data.copy()\n",
        "data_exploration['date'] = pd.to_datetime(data_exploration['date']).astype(int)/ 10**9\n",
        "data_exploration.fillna(0, inplace=True)\n",
        "\n",
        "confirmed = data_exploration.confirmed.values\n",
        "deaths = data_exploration.deaths.values\n",
        "date = data_exploration.date.values\n",
        "total_tests = data_exploration.total_tests.values\n",
        "\n",
        "\n",
        "print('Date y confirmed:', stats.pearsonr(date, confirmed)[0])\n",
        "print('Date y deaths:', stats.pearsonr(date, deaths)[0])\n",
        "\n",
        "print('Deaths y confirmed: ', stats.pearsonr(deaths, confirmed)[0])\n",
        "\n",
        "print('Deaths y total_tests: ', stats.pearsonr(total_tests, deaths)[0])\n",
        "print('Confirmed y total_tests: ', stats.pearsonr(total_tests, confirmed)[0])"
      ],
      "execution_count": null,
      "outputs": [
        {
          "output_type": "stream",
          "text": [
            "Date y confirmed: 0.21669766525596829\n",
            "Date y deaths: 0.2249256776835063\n",
            "Deaths y confirmed:  0.9922227623662132\n",
            "Deaths y total_tests:  0.9833160442092029\n",
            "Confirmed y total_tests:  0.9929222771156285\n"
          ],
          "name": "stdout"
        }
      ]
    },
    {
      "cell_type": "markdown",
      "metadata": {
        "id": "TGpWEyjHy8mU"
      },
      "source": [
        "## 4. Preparar los datos"
      ]
    },
    {
      "cell_type": "code",
      "metadata": {
        "id": "2TQZ7T48zIPB"
      },
      "source": [
        "# FUNCIONES\n",
        "def Normalizar_Datos(array):\n",
        "    p = np.mean(array, axis=0)\n",
        "    d = np.std(array, axis=0)\n",
        "    for i in range(0, array.shape[0]):\n",
        "        array[i] = np.true_divide((array[i] - p), d)\n",
        "    return array, p, d\n",
        "\n",
        "def Convertir_fecha(df):\n",
        "    start_date = datetime.date(2020, 3, 6)\n",
        "    for i, row in df.iterrows():\n",
        "        year = int(df.at[i, 'date'][0:4])\n",
        "        month = int(df.at[i, 'date'][5:7])\n",
        "        day = int(df.at[i, 'date'][8:10])\n",
        "        temp_date = datetime.date(year, month, day)\n",
        "        df.at[i,'date'] = np.float64((temp_date - start_date).days)\n",
        "    return df\n"
      ],
      "execution_count": null,
      "outputs": []
    },
    {
      "cell_type": "code",
      "metadata": {
        "id": "tyMjCsCJY9ON",
        "outputId": "1b3f263e-20dd-4623-feab-18dca92b2a0c",
        "colab": {
          "base_uri": "https://localhost:8080/",
          "height": 493
        }
      },
      "source": [
        "new_data = data.copy()\n",
        "# print(data.count())\n",
        "# filas con valores no nan en 'recovered' = 244\n",
        "# filas con valores no nan en 'pcr_serological_test_positive' = 24\n",
        "# iso3c en todas las filas es PER\n",
        "# country es peru en todas las filas\n",
        "del new_data['recovered']\n",
        "del new_data['pcr_serological_test_positive']\n",
        "del new_data['iso3c']\n",
        "del new_data['country']\n",
        "\n",
        "new_data.fillna(0, inplace=True)\n",
        "new_data = Convertir_fecha(new_data)\n",
        "\n",
        "# dataset arequipa\n",
        "df_arequipa = new_data.copy()\n",
        "df_arequipa = df_arequipa.loc[df_arequipa['region'] == 'Arequipa']\n",
        "print(df_arequipa)\n",
        "del df_arequipa['region']\n",
        "del df_arequipa['pcr_test_positive']\n",
        "\n",
        "# dataset peru\n",
        "df_peru = new_data.copy()\n",
        "df_peru = df_peru.loc[df_peru['region'] == 0]\n",
        "print(df_peru)\n",
        "del df_peru['region']\n",
        "del df_peru['pcr_test_positive']\n",
        "\n"
      ],
      "execution_count": null,
      "outputs": [
        {
          "output_type": "stream",
          "text": [
            "        region date  ...  pcr_test_positive  serological_test_positive\n",
            "6     Arequipa    7  ...                0.0                        0.0\n",
            "12    Arequipa    8  ...                0.0                        0.0\n",
            "19    Arequipa    9  ...                0.0                        0.0\n",
            "30    Arequipa   10  ...                0.0                        0.0\n",
            "41    Arequipa   11  ...                0.0                        0.0\n",
            "...        ...  ...  ...                ...                        ...\n",
            "5561  Arequipa  226  ...             5543.0                    37957.0\n",
            "5588  Arequipa  227  ...             5557.0                    37972.0\n",
            "5615  Arequipa  228  ...             5617.0                    38029.0\n",
            "5642  Arequipa  229  ...             5655.0                    38090.0\n",
            "5669  Arequipa  230  ...             5678.0                    38133.0\n",
            "\n",
            "[224 rows x 8 columns]\n",
            "     region date  ...  pcr_test_positive  serological_test_positive\n",
            "0         0    0  ...                0.0                        0.0\n",
            "1         0    1  ...                0.0                        0.0\n",
            "2         0    3  ...                0.0                        0.0\n",
            "3         0    4  ...                0.0                        0.0\n",
            "4         0    5  ...                0.0                        0.0\n",
            "...     ...  ...  ...                ...                        ...\n",
            "5584      0  226  ...           196268.0                   672407.0\n",
            "5611      0  227  ...           196685.0                   674191.0\n",
            "5638      0  228  ...           197840.0                   676278.0\n",
            "5665      0  229  ...           198247.0                   678638.0\n",
            "5692      0  230  ...           198879.0                   680997.0\n",
            "\n",
            "[230 rows x 8 columns]\n"
          ],
          "name": "stdout"
        }
      ]
    },
    {
      "cell_type": "code",
      "metadata": {
        "id": "DHc0rxK8hPiM"
      },
      "source": [
        "data_arequipa, arequipa_mean, arequipa_std = Normalizar_Datos(np.array(df_arequipa.values, dtype=np.float64))\n",
        "\n",
        "y_arequipa_confirmados = data_arequipa[:,1]\n",
        "x_arequipa_confirmados = np.delete(data_arequipa, 1, axis=1)\n",
        "\n",
        "y_arequipa_muertes = data_arequipa[:,2]\n",
        "x_arequipa_muertes = np.delete(data_arequipa, 2, axis=1)\n",
        "\n",
        "# Agregar columna de unos\n",
        "x_arequipa_confirmados = np.insert(x_arequipa_confirmados, 0, 1, axis=1) \n",
        "x_arequipa_muertes = np.insert(x_arequipa_muertes, 0, 1, axis=1)\n",
        "\n",
        "limit = int(0.7 * len(x_arequipa_confirmados))\n",
        "\n",
        "x_aqp_confirmados_train, x_aqp_confirmados_test = x_arequipa_confirmados[:limit,:], x_arequipa_confirmados[limit:, :]\n",
        "y_aqp_confirmados_train, y_aqp_confirmados_test = y_arequipa_confirmados[:limit], y_arequipa_confirmados[limit:]\n",
        "\n",
        "y_aqp_confirmados_train = np.array([[x] for x in y_aqp_confirmados_train])\n",
        "y_aqp_confirmados_test = np.array([[x] for x in y_aqp_confirmados_test])\n",
        "\n",
        "x_aqp_muertes_train, x_aqp_muertes_test = x_arequipa_muertes[:limit,:], x_arequipa_muertes[limit:, :]\n",
        "y_aqp_muertes_train, y_aqp_muertes_test = y_arequipa_muertes[:limit], y_arequipa_muertes[limit:]\n",
        "\n",
        "y_aqp_muertes_train = np.array([[x] for x in y_aqp_muertes_train])\n",
        "y_aqp_muertes_test = np.array([[x] for x in y_aqp_muertes_test])\n"
      ],
      "execution_count": null,
      "outputs": []
    },
    {
      "cell_type": "code",
      "metadata": {
        "id": "K2cc6azZm5N0"
      },
      "source": [
        "data_peru, peru_mean, peru_std = Normalizar_Datos(np.array(df_peru.values, dtype=np.float64))\n",
        "\n",
        "y_peru_confirmados = data_peru[:,1]\n",
        "x_peru_confirmados = np.delete(data_peru, 1, axis=1)\n",
        "\n",
        "y_peru_muertes = data_peru[:,2]\n",
        "x_peru_muertes = np.delete(data_peru, 2, axis=1)\n",
        "\n",
        "# Agregar columna de unos\n",
        "x_peru_confirmados = np.insert(x_peru_confirmados, 0, 1, axis=1) \n",
        "x_peru_muertes = np.insert(x_peru_muertes, 0, 1, axis=1)\n",
        "\n",
        "limit = int(0.7 * len(x_peru_confirmados))\n",
        "\n",
        "x_peru_confirmados_train, x_peru_confirmados_test = x_peru_confirmados[:limit,:], x_peru_confirmados[limit:, :]\n",
        "y_peru_confirmados_train, y_peru_confirmados_test = y_peru_confirmados[:limit], y_peru_confirmados[limit:]\n",
        "\n",
        "y_peru_confirmados_train = np.array([[x] for x in y_peru_confirmados_train])\n",
        "y_peru_confirmados_test = np.array([[x] for x in y_peru_confirmados_test])\n",
        "\n",
        "x_peru_muertes_train, x_peru_muertes_test = x_peru_muertes[:limit,:], x_peru_muertes[limit:, :]\n",
        "y_peru_muertes_train, y_peru_muertes_test = y_peru_muertes[:limit], y_peru_muertes[limit:]\n",
        "\n",
        "y_peru_muertes_train = np.array([[x] for x in y_peru_muertes_train])\n",
        "y_peru_muertes_test = np.array([[x] for x in y_peru_muertes_test])\n"
      ],
      "execution_count": null,
      "outputs": []
    },
    {
      "cell_type": "markdown",
      "metadata": {
        "id": "dVd8Imn-xkIt"
      },
      "source": [
        "## 5. Explorar modelos"
      ]
    },
    {
      "cell_type": "code",
      "metadata": {
        "id": "QD8k3IlRI-QE"
      },
      "source": [
        "# Funciones\n",
        "def Calcular_Costo(X, Y, theta):\n",
        "    cost = np.sum((np.dot(X,theta.T)-Y)**2) / (2*len(X))\n",
        "    return cost\n",
        "\n",
        "def Gradiente_descendiente(X, Y, theta, it, lr):\n",
        "    costs = [0]*it\n",
        "    size = len(X)\n",
        "    for i in range(it):\n",
        "        h = np.dot(X,theta.T)\n",
        "        rest = h - Y\n",
        "        deriv = np.dot(X.T,rest) / size\n",
        "        theta = theta - (lr * deriv).T\n",
        "        costs[i] = Calcular_Costo(X, Y , theta)\n",
        "    return theta, costs\n",
        "\n",
        "\n",
        "def MSE(Yp,Y):\n",
        "    tam = len(Y)\n",
        "    error = np.sum((Yp - Y)**2) / tam\n",
        "    return error"
      ],
      "execution_count": null,
      "outputs": []
    },
    {
      "cell_type": "code",
      "metadata": {
        "id": "rTB1g6WCxm3A",
        "outputId": "458b3240-3929-4d25-b999-c9307bbc20cc",
        "colab": {
          "base_uri": "https://localhost:8080/",
          "height": 408
        }
      },
      "source": [
        "# Hallar parámetros\n",
        "# Arequipa - confirmados\n",
        "print('====== Arequipa - confirmados ======')\n",
        "\n",
        "thetas_aqp_confirmados = np.zeros(x_aqp_confirmados_train.shape[1])[np.newaxis]\n",
        "learning_rate = [0.01, 0.05, 0.1, 0.2, 0.3, 0.4]\n",
        "iterations = [500, 1000, 1500, 2000, 2500, 3000, 3500]\n",
        "matriz = np.zeros((len(learning_rate), len(iterations)))\n",
        "\n",
        "x = 0\n",
        "y = 0\n",
        "for l in learning_rate:\n",
        "    y = 0\n",
        "    for i in iterations:\n",
        "        theta_actual_aqp_confirmados, vac = Gradiente_descendiente(\n",
        "            x_aqp_confirmados_train,\n",
        "            y_aqp_confirmados_train,\n",
        "            thetas_aqp_confirmados, i, l\n",
        "        )\n",
        "        matriz[x,y] = MSE(x_aqp_confirmados_test.dot(theta_actual_aqp_confirmados.T), y_aqp_confirmados_test)\n",
        "        y += 1\n",
        "    x +=1\n",
        "\n",
        "\n",
        "print('res: ', thetas_aqp_confirmados)\n",
        "df_aqp_confirmados = pd.DataFrame(data=matriz, index = learning_rate, columns=iterations)\n",
        "\n",
        "id_1, id_2 = np.where(matriz == matriz.min())  # hallar indices de elemento minimo\n",
        "print ('Minimo: ', matriz.min())\n",
        "print ('Learning rate: ', learning_rate[int(id_1)])\n",
        "print ('Iterations: ', iterations[int(id_2)])\n",
        "print (df_aqp_confirmados)\n",
        "\n",
        "# Arequipa - muertes\n",
        "print('====== Arequipa - muertes ======')\n",
        "thetas_aqp_muertes = np.zeros(x_aqp_muertes_train.shape[1])[np.newaxis]\n",
        "matriz = np.zeros((len(learning_rate), len(iterations)))\n",
        "\n",
        "x = 0\n",
        "y = 0\n",
        "for l in learning_rate:\n",
        "    y = 0\n",
        "    for i in iterations:\n",
        "        theta_actual_aqp_muertes, vac = Gradiente_descendiente(\n",
        "            x_aqp_muertes_train,\n",
        "            y_aqp_muertes_train,\n",
        "            thetas_aqp_muertes, i, l\n",
        "        )\n",
        "        matriz[x,y] = MSE(x_aqp_confirmados_test.dot(theta_actual_aqp_muertes.T), y_aqp_muertes_test)\n",
        "        y += 1\n",
        "    x +=1\n",
        "\n",
        "\n",
        "df_aqp_muertes = pd.DataFrame(data=matriz, index = learning_rate, columns=iterations)\n",
        "\n",
        "id_1, id_2 = np.where(matriz == matriz.min())  # hallar indices de elemento minimo\n",
        "print ('Minimo: ', matriz.min())\n",
        "print ('Learning rate: ', learning_rate[int(id_1)])\n",
        "print ('Iterations: ', iterations[int(id_2)])\n",
        "print (df_aqp_muertes)"
      ],
      "execution_count": null,
      "outputs": [
        {
          "output_type": "stream",
          "text": [
            "====== Arequipa - confirmados ======\n",
            "res:  [[0.00000 0.00000 0.00000 0.00000 0.00000 0.00000]]\n",
            "Minimo:  0.0020205658690571906\n",
            "Learning rate:  0.4\n",
            "Iterations:  3500\n",
            "       500   1000  1500  2000  2500  3000  3500\n",
            "0.010 0.592 0.522 0.459 0.411 0.376 0.349 0.327\n",
            "0.050 0.376 0.283 0.238 0.207 0.181 0.159 0.140\n",
            "0.100 0.282 0.207 0.159 0.123 0.096 0.075 0.058\n",
            "0.200 0.207 0.123 0.075 0.046 0.029 0.019 0.012\n",
            "0.300 0.159 0.075 0.036 0.019 0.010 0.006 0.004\n",
            "0.400 0.123 0.046 0.019 0.009 0.005 0.003 0.002\n",
            "====== Arequipa - muertes ======\n",
            "Minimo:  0.00836755010841315\n",
            "Learning rate:  0.01\n",
            "Iterations:  1000\n",
            "       500   1000  1500  2000  2500  3000  3500\n",
            "0.010 0.061 0.008 0.016 0.062 0.132 0.218 0.313\n",
            "0.050 0.133 0.610 1.041 1.344 1.539 1.657 1.724\n",
            "0.100 0.611 1.345 1.657 1.761 1.782 1.773 1.754\n",
            "0.200 1.346 1.761 1.773 1.730 1.682 1.634 1.587\n",
            "0.300 1.658 1.773 1.706 1.634 1.564 1.498 1.436\n",
            "0.400 1.762 1.730 1.634 1.542 1.456 1.376 1.302\n"
          ],
          "name": "stdout"
        }
      ]
    },
    {
      "cell_type": "code",
      "metadata": {
        "id": "FPwo2taBxm7i",
        "outputId": "5344ade1-433b-48c3-830b-c4ea9cfe8212",
        "colab": {
          "base_uri": "https://localhost:8080/",
          "height": 391
        }
      },
      "source": [
        "# Peru - confirmados\n",
        "print('====== Peru - confirmados ======')\n",
        "thetas_peru_confirmados = np.zeros(x_peru_confirmados_train.shape[1])[np.newaxis]\n",
        "learning_rate = [0.01, 0.05, 0.1, 0.2, 0.3, 0.4]\n",
        "iterations = [500, 1000, 1500, 2000, 2500, 3000, 3500]\n",
        "matriz = np.zeros((len(learning_rate), len(iterations)))\n",
        "\n",
        "x = 0\n",
        "y = 0\n",
        "for l in learning_rate:\n",
        "    y = 0\n",
        "    for i in iterations:\n",
        "        theta_actual_peru_confirmados, vac = Gradiente_descendiente(\n",
        "            x_peru_confirmados_train,\n",
        "            y_peru_confirmados_train,\n",
        "            thetas_peru_confirmados, i, l\n",
        "        )\n",
        "        matriz[x,y] = MSE(x_peru_confirmados_test.dot(theta_actual_peru_confirmados.T), y_peru_confirmados_test)\n",
        "        y += 1\n",
        "    x +=1\n",
        "\n",
        "\n",
        "df_peru_confirmados = pd.DataFrame(data=matriz, index = learning_rate, columns=iterations)\n",
        "\n",
        "id_1, id_2 = np.where(matriz == matriz.min())  # hallar indices de elemento minimo\n",
        "print ('Minimo: ', matriz.min())\n",
        "print ('Learning rate: ', learning_rate[int(id_1)])\n",
        "print ('Iterations: ', iterations[int(id_2)])\n",
        "print (df_peru_confirmados)\n",
        "\n",
        "# Peru - muertes\n",
        "print('====== Peru - muertes ======')\n",
        "thetas_peru_muertes = np.zeros(x_peru_muertes_train.shape[1])[np.newaxis]\n",
        "matriz = np.zeros((len(learning_rate), len(iterations)))\n",
        "\n",
        "x = 0\n",
        "y = 0\n",
        "for l in learning_rate:\n",
        "    y = 0\n",
        "    for i in iterations:\n",
        "        theta_actual_peru_muertes, vac = Gradiente_descendiente(\n",
        "            x_peru_muertes_train,\n",
        "            y_peru_muertes_train,\n",
        "            thetas_peru_muertes, i, l\n",
        "        )\n",
        "        matriz[x,y] = MSE(x_peru_confirmados_test.dot(theta_actual_peru_muertes.T), y_peru_muertes_test)\n",
        "        y += 1\n",
        "    x +=1\n",
        "\n",
        "df_peru_muertes = pd.DataFrame(data=matriz, index = learning_rate, columns=iterations)\n",
        "\n",
        "id_1, id_2 = np.where(matriz == matriz.min())  # hallar indices de elemento minimo\n",
        "print ('Minimo: ', matriz.min())\n",
        "print ('Learning rate: ', learning_rate[int(id_1)])\n",
        "print ('Iterations: ', iterations[int(id_2)])\n",
        "print (df_peru_muertes)"
      ],
      "execution_count": null,
      "outputs": [
        {
          "output_type": "stream",
          "text": [
            "====== Peru - confirmados ======\n",
            "Minimo:  0.06788645143005767\n",
            "Learning rate:  0.3\n",
            "Iterations:  500\n",
            "          500       1000      1500      2000      2500      3000      3500\n",
            "0.01  0.113432  0.100620  0.095162  0.090990  0.087497  0.084538  0.082021\n",
            "0.05  0.087488  0.076474  0.071450  0.069164  0.068202  0.067895  0.067917\n",
            "0.10  0.076464  0.069159  0.067894  0.068098  0.068638  0.069207  0.069722\n",
            "0.20  0.069149  0.068097  0.069208  0.070163  0.070826  0.071251  0.071501\n",
            "0.30  0.067886  0.069208  0.070529  0.071252  0.071579  0.071676  0.071647\n",
            "0.40  0.068096  0.070164  0.071252  0.071631  0.071667  0.071550  0.071368\n",
            "====== Peru - muertes ======\n",
            "Minimo:  0.001028777093892732\n",
            "Learning rate:  0.4\n",
            "Iterations:  500\n",
            "          500       1000      1500      2000      2500      3000      3500\n",
            "0.01  0.124831  0.105308  0.092915  0.082517  0.073494  0.065611  0.058697\n",
            "0.05  0.073483  0.042447  0.025194  0.014869  0.008444  0.004461  0.002143\n",
            "0.10  0.042435  0.014864  0.004459  0.001031  0.001337  0.003955  0.008162\n",
            "0.20  0.014854  0.001030  0.003957  0.013567  0.027104  0.043468  0.062005\n",
            "0.30  0.004451  0.003959  0.019934  0.043472  0.071931  0.103636  0.137264\n",
            "0.40  0.001029  0.013574  0.043477  0.082216  0.125919  0.171767  0.217724\n"
          ],
          "name": "stdout"
        }
      ]
    },
    {
      "cell_type": "code",
      "metadata": {
        "id": "yW9DQLeNfPNO"
      },
      "source": [
        "theta_peru_muertes, costo_peru_muertes = Gradiente_descendiente(\n",
        "            x_peru_muertes_train,\n",
        "            y_peru_muertes_train,\n",
        "            thetas_peru_muertes, 3500, 0.1\n",
        "        )\n",
        "\n",
        "theta_peru_confirmados, costo_peru_confirmados = Gradiente_descendiente(\n",
        "            x_peru_confirmados_train,\n",
        "            y_peru_confirmados_train,\n",
        "            thetas_peru_confirmados, 1500, 0.1\n",
        "        )\n"
      ],
      "execution_count": null,
      "outputs": []
    },
    {
      "cell_type": "code",
      "metadata": {
        "id": "LGKdEKZJvTEP"
      },
      "source": [
        "theta_arequipa_muertes, costo_arequipa_muertes = Gradiente_descendiente(\n",
        "            x_aqp_muertes_train,\n",
        "            y_aqp_muertes_train,\n",
        "            thetas_aqp_muertes[0], 1000, 0.01\n",
        "        )\n",
        "\n",
        "theta_arequipa_confirmados, costo_arequipa_confirmados = Gradiente_descendiente(\n",
        "            x_aqp_confirmados_train,\n",
        "            y_aqp_confirmados_train,\n",
        "            thetas_aqp_confirmados[0], 3500, 0.4\n",
        "        )\n",
        "\n"
      ],
      "execution_count": null,
      "outputs": []
    },
    {
      "cell_type": "markdown",
      "metadata": {
        "id": "CpGzIAmiKBAC"
      },
      "source": [
        "### Usando sklearn"
      ]
    },
    {
      "cell_type": "code",
      "metadata": {
        "id": "dx4hMmTLJ_wL",
        "outputId": "b8ccc612-253b-4c78-8fcd-1d6019b91a77",
        "colab": {
          "base_uri": "https://localhost:8080/",
          "height": 51
        }
      },
      "source": [
        "# Peru - confirmados\n",
        "import matplotlib.pyplot as plt\n",
        "import numpy as np\n",
        "from sklearn import datasets, linear_model\n",
        "from sklearn.metrics import mean_squared_error, r2_score\n",
        "\n",
        "x_peru_confirmados_train_pred = x_peru_confirmados_train.copy()\n",
        "x_peru_confirmados_test_pred = x_peru_confirmados_test.copy()\n",
        "\n",
        "regr = linear_model.LinearRegression()\n",
        "print(x_peru_confirmados_train_pred.shape)\n",
        "regr.fit(x_peru_confirmados_train_pred, y_peru_confirmados_train)\n",
        "\n"
      ],
      "execution_count": 100,
      "outputs": [
        {
          "output_type": "stream",
          "text": [
            "(161, 6)\n"
          ],
          "name": "stdout"
        },
        {
          "output_type": "execute_result",
          "data": {
            "text/plain": [
              "LinearRegression(copy_X=True, fit_intercept=True, n_jobs=None, normalize=False)"
            ]
          },
          "metadata": {
            "tags": []
          },
          "execution_count": 100
        }
      ]
    },
    {
      "cell_type": "code",
      "metadata": {
        "id": "FwwK3YxjShG4"
      },
      "source": [
        ""
      ],
      "execution_count": null,
      "outputs": []
    },
    {
      "cell_type": "markdown",
      "metadata": {
        "id": "ZBk-S-GNiBm3"
      },
      "source": [
        "## Presentar resultados"
      ]
    },
    {
      "cell_type": "code",
      "metadata": {
        "id": "JBivU9HC3PN-"
      },
      "source": [
        "def Prediccion(theta, datos):\n",
        "    return np.dot(datos, theta)\n"
      ],
      "execution_count": null,
      "outputs": []
    },
    {
      "cell_type": "code",
      "metadata": {
        "id": "bU89UOv0iDk1",
        "outputId": "2d8fd628-4f31-4491-c08d-04e9e2326bbb",
        "colab": {
          "base_uri": "https://localhost:8080/",
          "height": 588
        }
      },
      "source": [
        "\n",
        "float_formatter = \"{:.5f}\".format\n",
        "np.set_printoptions(formatter={'float_kind': float_formatter})\n",
        "\n",
        "base = datetime.datetime(2020, 10, 19)\n",
        "date_list = [(base + datetime.timedelta(days=x)).date() for x in range(11)]\n",
        "\n",
        "final_dates = [(date_list[i] - datetime.date(2020,3,6) ).days for i in range(len(date_list))]\n",
        "\n",
        "\n",
        "resultados_muerte = []\n",
        "\n",
        "for i in range(len(date_list)):\n",
        "    # Peru - muertes\n",
        "    entrada_peru_muertes = data_peru[209].copy()\n",
        "    entrada_peru_muertes = np.insert(entrada_peru_muertes, 0, 1, axis=0)\n",
        "    entrada_peru_muertes[1] = (final_dates[i] - peru_mean[0])/peru_std[0]\n",
        "    entrada_peru_muertes = np.delete(entrada_peru_muertes, 3)\n",
        "    result_muertes = Prediccion(theta_peru_muertes[0], entrada_peru_muertes)*peru_std[2] + peru_mean[2]\n",
        "\n",
        "    print('fecha:', date_list[i], 'muertes peru:', result_muertes)\n",
        "    resultados_muerte.append(result_muertes)\n",
        "\n",
        "\n",
        "\n",
        "import matplotlib.pyplot as plt\n",
        "\n",
        "# print(peru_mean)\n",
        "# print(peru_std)\n",
        "final_dates.reverse()\n",
        "graphic_dates = [(val - peru_mean[0])/peru_std[0] for val in final_dates]\n",
        "graphic_prediction = [ (val - peru_mean[2])/ peru_std[2] for val in resultados_muerte]\n",
        "\n",
        "print(graphic_dates[0:4])\n",
        "print(graphic_prediction[0:4])\n",
        "print(x_peru_muertes_test[-1,1])\n",
        "print(y_peru_muertes_test[-1])\n",
        "plt.scatter(x_peru_muertes_test[:65,1], y_peru_muertes_test[:65],  color='black')\n",
        "plt.scatter(graphic_dates, graphic_prediction,  color='red')\n",
        "# plt.plot(x_peru_confirmados_test_pred[:, 1], y_pred_1, color='blue', linewidth=1)\n",
        "\n",
        "print('')\n",
        "print('')\n",
        "plt.show()\n",
        "print('')\n",
        "print('')"
      ],
      "execution_count": 150,
      "outputs": [
        {
          "output_type": "stream",
          "text": [
            "fecha: 2020-10-19 muertes peru: 33713.92208525383\n",
            "fecha: 2020-10-20 muertes peru: 33771.56155418388\n",
            "fecha: 2020-10-21 muertes peru: 33829.20102311392\n",
            "fecha: 2020-10-22 muertes peru: 33886.840492043964\n",
            "fecha: 2020-10-23 muertes peru: 33944.479960974015\n",
            "fecha: 2020-10-24 muertes peru: 34002.11942990406\n",
            "fecha: 2020-10-25 muertes peru: 34059.75889883411\n",
            "fecha: 2020-10-26 muertes peru: 34117.39836776415\n",
            "fecha: 2020-10-27 muertes peru: 34175.0378366942\n",
            "fecha: 2020-10-28 muertes peru: 34232.677305624245\n",
            "fecha: 2020-10-29 muertes peru: 34290.316774554296\n",
            "[1.679103872880325, 1.694161926093663, 1.7092199793070006, 1.7242780325203384]\n",
            "[1.5740220384684636, 1.5785600081442999, 1.5830979778201355, 1.5876359474959711]\n",
            "1.7242780325203384\n",
            "[1.59529]\n",
            "\n",
            "\n"
          ],
          "name": "stdout"
        },
        {
          "output_type": "display_data",
          "data": {
            "image/png": "[encoded data removed]",
            "text/plain": [
              "<Figure size 432x288 with 1 Axes>"
            ]
          },
          "metadata": {
            "tags": [],
            "needs_background": "light"
          }
        },
        {
          "output_type": "stream",
          "text": [
            "\n",
            "\n"
          ],
          "name": "stdout"
        }
      ]
    },
    {
      "cell_type": "code",
      "metadata": {
        "id": "ICRM5Q5OO90J",
        "outputId": "af5b9364-d576-4df9-b30a-6ab35b4a5ce5",
        "colab": {
          "base_uri": "https://localhost:8080/",
          "height": 367
        }
      },
      "source": [
        "fig, ax = plt.subplots(1, 2, figsize=(10,5))\n",
        "\n",
        "ax[0].scatter(np.arange(100), costo_peru_muertes[:100], alpha = 1, c=\"green\", s=5)\n",
        "ax[0].set_title(\"Costos peru muertes train\")\n",
        "ax[0].set_xlabel('Iteraciones')\n",
        "ax[0].set_ylabel('Costos')\n",
        "\n",
        "ax[1].scatter(np.arange(100), costo_peru_confirmados[:100], alpha = 1, c=\"green\", s=1)\n",
        "ax[1].set_title(\"Costos peru confirmados train\")\n",
        "ax[1].set_xlabel('Iteraciones')\n",
        "ax[1].set_ylabel('Costos')"
      ],
      "execution_count": null,
      "outputs": [
        {
          "output_type": "execute_result",
          "data": {
            "text/plain": [
              "Text(0, 0.5, 'Costos')"
            ]
          },
          "metadata": {
            "tags": []
          },
          "execution_count": 180
        },
        {
          "output_type": "display_data",
          "data": {
            "image/png": "[encoded data removed]",
            "text/plain": [
              "<Figure size 720x360 with 2 Axes>"
            ]
          },
          "metadata": {
            "tags": [],
            "needs_background": "light"
          }
        }
      ]
    },
    {
      "cell_type": "code",
      "metadata": {
        "id": "NWD945S1OVwC",
        "outputId": "e59dd50a-d26a-4ae6-e5ee-7d0c28891ae7",
        "colab": {
          "base_uri": "https://localhost:8080/",
          "height": 690
        }
      },
      "source": [
        "# Peru - confirmados\n",
        "import matplotlib.pyplot as plt\n",
        "import numpy as np\n",
        "from sklearn import datasets, linear_model\n",
        "from sklearn.metrics import mean_squared_error, r2_score\n",
        "\n",
        "x_peru_confirmados_train_pred = x_peru_confirmados_train.copy()\n",
        "x_peru_confirmados_test_pred = x_peru_confirmados_test.copy()\n",
        "\n",
        "regr = linear_model.LinearRegression()\n",
        "print(x_peru_confirmados_train_pred.shape)\n",
        "regr.fit(x_peru_confirmados_train_pred, y_peru_confirmados_train)\n",
        "\n",
        "float_formatter = \"{:.5f}\".format\n",
        "np.set_printoptions(formatter={'float_kind': float_formatter})\n",
        "\n",
        "base = datetime.datetime(2020, 10, 19)\n",
        "date_list = [(base + datetime.timedelta(days=x)).date() for x in range(11)]\n",
        "\n",
        "final_dates = [(date_list[i] - datetime.date(2020,3,6) ).days for i in range(len(date_list))]\n",
        "\n",
        "x_pred_2 = x_peru_confirmados_test_pred.copy()\n",
        "base_entry = x_peru_confirmados_test_pred[-5].copy()\n",
        "x_pred_2 = x_pred_2[-10:]\n",
        "print(x_pred_2)\n",
        "for i in range(10):\n",
        "    x_pred_2[i] = base_entry\n",
        "    x_pred_2[i][1] = (final_dates[i] - peru_mean[0]) / peru_std[0]\n",
        "    x_pred_2[i][2] += 0.012\n",
        "    x_pred_2[i][3] += 0.012\n",
        "    x_pred_2[i][4] += 0.012\n",
        "    x_pred_2[i][5] += 0.012\n",
        "    base_entry = x_pred_2[i]\n",
        "\n",
        "y_pred_1 = regr.predict(x_pred_2)\n",
        "\n",
        "y_pred_test = regr.predict(x_peru_confirmados_test_pred)\n",
        "\n",
        "for i in range(len(y_pred_1)):\n",
        "    print('fecha:', date_list[i], 'confirmados:', y_pred_1[i][0]*peru_std[1] + peru_mean[1])\n",
        "\n",
        "plt.scatter(x_peru_confirmados_test_pred[20:,1], y_peru_confirmados_test[20:],  color='black')\n",
        "plt.scatter(x_peru_confirmados_test_pred[20:65,1], y_pred_test[20:65], color='blue')\n",
        "plt.scatter(x_pred_2[:, 1], y_pred_1, color='red')\n",
        "\n",
        "print('')\n",
        "print('')\n",
        "plt.show()\n",
        "print('')\n",
        "print('')"
      ],
      "execution_count": 149,
      "outputs": [
        {
          "output_type": "stream",
          "text": [
            "(161, 6)\n",
            "[[1.00000 1.58876 1.55080 1.64175 1.61867 1.79974]\n",
            " [1.00000 1.60381 1.55812 1.65818 1.63680 1.81009]\n",
            " [1.00000 1.61887 1.56324 1.67451 1.65499 1.82053]\n",
            " [1.00000 1.63393 1.56883 1.69119 1.67371 1.83006]\n",
            " [1.00000 1.64899 1.57308 1.70841 1.69271 1.84183]\n",
            " [1.00000 1.66405 1.57757 1.72534 1.71135 1.85359]\n",
            " [1.00000 1.67910 1.58237 1.73883 1.72646 1.86139]\n",
            " [1.00000 1.69416 1.58670 1.75390 1.74263 1.87052]\n",
            " [1.00000 1.70922 1.59159 1.77010 1.76067 1.88084]\n",
            " [1.00000 1.72428 1.59529 1.78643 1.77867 1.89116]]\n",
            "fecha: 2020-10-19 confirmados: 849616.8939984373\n",
            "fecha: 2020-10-20 confirmados: 853066.7429477928\n",
            "fecha: 2020-10-21 confirmados: 856516.5918971482\n",
            "fecha: 2020-10-22 confirmados: 859966.4408465032\n",
            "fecha: 2020-10-23 confirmados: 863416.2897958581\n",
            "fecha: 2020-10-24 confirmados: 866866.1387452136\n",
            "fecha: 2020-10-25 confirmados: 870315.9876945687\n",
            "fecha: 2020-10-26 confirmados: 873765.8366439238\n",
            "fecha: 2020-10-27 confirmados: 877215.6855932791\n",
            "fecha: 2020-10-28 confirmados: 880665.5345426344\n",
            "\n",
            "\n"
          ],
          "name": "stdout"
        },
        {
          "output_type": "display_data",
          "data": {
            "image/png": "[encoded data removed]",
            "text/plain": [
              "<Figure size 432x288 with 1 Axes>"
            ]
          },
          "metadata": {
            "tags": [],
            "needs_background": "light"
          }
        },
        {
          "output_type": "stream",
          "text": [
            "\n",
            "\n"
          ],
          "name": "stdout"
        }
      ]
    },
    {
      "cell_type": "code",
      "metadata": {
        "id": "q7zj_rS8P9mZ"
      },
      "source": [
        ""
      ],
      "execution_count": null,
      "outputs": []
    }
  ]
}