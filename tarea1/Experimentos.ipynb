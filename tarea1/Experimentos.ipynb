{
 "cells": [
  {
   "cell_type": "markdown",
   "metadata": {},
   "source": [
    "# EXPERIMENTO 1"
   ]
  },
  {
   "cell_type": "markdown",
   "metadata": {},
   "source": [
    "## Datos"
   ]
  },
  {
   "cell_type": "code",
   "execution_count": 7,
   "metadata": {},
   "outputs": [],
   "source": [
    "import pandas as pd\n",
    "import numpy as np\n",
    "\n",
    "x_train = pd.read_csv('data/1_train_x.csv', header=None)\n",
    "y_train = pd.read_csv('data/1_train_y.csv', header=None)\n",
    "x_test = pd.read_csv('data/1_test_x.csv', header=None)\n",
    "y_test = pd.read_csv('data/1_test_y.csv', header=None)\n",
    "\n",
    "# Agregar columna de unos\n",
    "x_train = np.insert(x_train.values, 0, 1, axis=1) \n",
    "x_test = np.insert(x_test.values, 0, 1, axis=1)\n",
    "\n"
   ]
  },
  {
   "cell_type": "markdown",
   "metadata": {},
   "source": [
    "## Funciones"
   ]
  },
  {
   "cell_type": "code",
   "execution_count": 8,
   "metadata": {},
   "outputs": [],
   "source": [
    "def Calcular_Costo(X, Y, theta):\n",
    "    cost = np.sum((np.dot(X,theta.T)-Y)**2) / (2*len(X))\n",
    "    return cost\n",
    "\n",
    "def Gradiente_descendiente(X, Y, theta, it, lr):\n",
    "    costs = [0]*it\n",
    "    size = len(X)\n",
    "    for i in range(it):\n",
    "        h = np.dot(X,theta.T)\n",
    "        rest = h - Y\n",
    "        deriv = np.dot(X.T,rest) / size\n",
    "        theta = theta - (lr * deriv).T\n",
    "        costs[i] = Calcular_Costo(X, Y , theta)\n",
    "    return theta, costs\n",
    "\n",
    "def Ecuacion_Normal(X, Y):\n",
    "    theta = np.linalg.inv(np.dot(X.T, X))\n",
    "    theta = np.dot(theta, X.T)\n",
    "    theta = np.dot(theta, Y)\n",
    "    return theta.T\n",
    "\n",
    "def MSE(Yp,Y):\n",
    "    tam =len(Y)\n",
    "    error = np.sum((Yp - Y)**2) / tam\n",
    "    return error"
   ]
  },
  {
   "cell_type": "markdown",
   "metadata": {},
   "source": [
    "## Procedimiento"
   ]
  },
  {
   "cell_type": "code",
   "execution_count": 9,
   "metadata": {},
   "outputs": [
    {
     "name": "stdout",
     "output_type": "stream",
     "text": [
      "Thetas Ecuación Normal\n",
      "[[-0.08752625 -0.09203601 -0.36687041  0.1072892   0.64775736]]\n",
      "Minimo:  0.6846207324016144\n",
      "Learning rate:  0.01\n",
      "Iterations:  500\n",
      "          500       1000      1500      2000      2500      3000      3500\n",
      "0.01  0.684621  0.703287  0.709549  0.711014  0.711345  0.711419  0.711435\n",
      "0.05  0.711349  0.711440  0.711440  0.711440  0.711440  0.711440  0.711440\n",
      "0.10  0.711440  0.711440  0.711440  0.711440  0.711440  0.711440  0.711440\n",
      "0.20  0.711440  0.711440  0.711440  0.711440  0.711440  0.711440  0.711440\n",
      "0.30  0.711440  0.711440  0.711440  0.711440  0.711440  0.711440  0.711440\n",
      "0.40  0.711440  0.711440  0.711440  0.711440  0.711440  0.711440  0.711440\n"
     ]
    }
   ],
   "source": [
    "# Usando Ecuación Normal\n",
    "\n",
    "thetas = np.zeros(5)[np.newaxis]\n",
    "\n",
    "thetas_inicio = Ecuacion_Normal(x_train, y_train)\n",
    "error_train = MSE(np.dot(x_train, thetas_inicio.T), y_train)\n",
    "error_test = MSE(np.dot(x_test, thetas_inicio.T), y_test)\n",
    "\n",
    "print('Thetas Ecuación Normal')\n",
    "print(thetas_inicio)\n",
    "# print(error_train)\n",
    "# print(error_test)\n",
    "\n",
    "# Gradiente Descendiente\n",
    "\n",
    "learning_rate = [0.01, 0.05, 0.1, 0.2, 0.3, 0.4]\n",
    "iterations = [500, 1000, 1500, 2000, 2500, 3000, 3500]\n",
    "matriz = np.zeros((len(learning_rate), len(iterations)))\n",
    "\n",
    "x = 0\n",
    "y = 0\n",
    "for l in learning_rate:\n",
    "    y = 0\n",
    "    for i in iterations:\n",
    "        theta_actual, vac = Gradiente_descendiente(x_train, y_train, thetas, i, l)\n",
    "        matriz[x,y] = MSE(x_test.dot(theta_actual.T), y_test)\n",
    "        y += 1\n",
    "    x +=1\n",
    "\n",
    "\n",
    "df_petroleo = pd.DataFrame(data=matriz, index = learning_rate, columns=iterations)\n",
    "\n",
    "id_1, id_2 = np.where(matriz == matriz.min())  # hallar indices de elemento minimo\n",
    "print ('Minimo: ', matriz.min())\n",
    "print ('Learning rate: ', learning_rate[int(id_1)])\n",
    "print ('Iterations: ', iterations[int(id_2)])\n",
    "print (df_petroleo) \n",
    "\n"
   ]
  },
  {
   "cell_type": "markdown",
   "metadata": {},
   "source": [
    "## Graficar"
   ]
  },
  {
   "cell_type": "code",
   "execution_count": 40,
   "metadata": {},
   "outputs": [
    {
     "data": {
      "text/plain": [
       "Text(0, 0.5, 'Costos')"
      ]
     },
     "execution_count": 40,
     "metadata": {},
     "output_type": "execute_result"
    },
    {
     "data": {
      "image/png": "[encoded data removed]",
      "text/plain": [
       "<Figure size 1440x720 with 2 Axes>"
      ]
     },
     "metadata": {
      "needs_background": "light"
     },
     "output_type": "display_data"
    }
   ],
   "source": [
    "import matplotlib.pyplot as plt\n",
    "\n",
    "fig, ax = plt.subplots(1, 2, figsize=(20,10))\n",
    "\n",
    "thetas_train, costos_train = Gradiente_descendiente(x_train, y_train, thetas, iterations[0], learning_rate[0])\n",
    "thetas_test, costos_test = Gradiente_descendiente(x_test, y_test, thetas, iterations[0], learning_rate[0])\n",
    "\n",
    "ax[0].scatter(np.arange(iterations[0]), costos_train, alpha = 1, c=\"green\", s=1)\n",
    "ax[0].set_title(\"Consumo de petróleo train\")\n",
    "ax[0].set_xlabel('Iteraciones')\n",
    "ax[0].set_ylabel('Costos')\n",
    "\n",
    "ax[1].scatter(np.arange(iterations[0]), costos_test, alpha = 1, c=\"green\", s=1)\n",
    "ax[1].set_title(\"Consumo de petróleo test\")\n",
    "ax[1].set_xlabel('Iteraciones')\n",
    "ax[1].set_ylabel('Costos')"
   ]
  },
  {
   "cell_type": "code",
   "execution_count": 9,
   "metadata": {},
   "outputs": [
    {
     "name": "stdout",
     "output_type": "stream",
     "text": [
      "hola\n"
     ]
    }
   ],
   "source": [
    "print('hola')"
   ]
  },
  {
   "cell_type": "markdown",
   "metadata": {},
   "source": [
    "# Experimento 2 - Generación de energía solar"
   ]
  },
  {
   "cell_type": "code",
   "execution_count": 17,
   "metadata": {},
   "outputs": [
    {
     "name": "stdout",
     "output_type": "stream",
     "text": [
      "Thetas Ecuación Normal\n",
      "[[ 7.07854321e-02 -1.39301930e-02 -8.84245186e+01  8.91279866e+01]]\n",
      "0.3689172589490223\n",
      "0 0\n",
      "0.3694006626462659\n",
      "0 1\n",
      "0.36940572859540527\n",
      "0 2\n",
      "0.36940467693141077\n",
      "0 3\n",
      "0.36940354739916487\n",
      "0 4\n",
      "0.3694024168874161\n",
      "0 5\n",
      "0.36940128638196545\n",
      "0 6\n",
      "0.36940354740317705\n",
      "1 0\n",
      "0.3693978949794908\n",
      "1 1\n",
      "0.36939224302539936\n",
      "1 2\n",
      "0.3693865915497911\n",
      "1 3\n",
      "0.3693809405526223\n",
      "1 4\n",
      "0.36937529003384856\n",
      "1 5\n",
      "0.3693696399934256\n",
      "1 6\n",
      "0.369397894978899\n",
      "2 0\n",
      "0.3693865915486076\n",
      "2 1\n",
      "0.3693752900320736\n",
      "2 2\n",
      "0.36936399042894325\n",
      "2 3\n",
      "0.3693526927388636\n",
      "2 4\n",
      "0.36934139696148155\n",
      "2 5\n",
      "0.3693301030964439\n",
      "2 6\n",
      "0.3693865915462406\n",
      "3 0\n",
      "0.3693639904242109\n",
      "3 1\n",
      "0.36934139695438534\n",
      "3 2\n",
      "0.3693188111339392\n",
      "3 3\n",
      "0.3692962329600486\n",
      "3 4\n",
      "0.36927366242989085\n",
      "3 5\n",
      "0.36925109954064433\n",
      "3 6\n",
      "0.36937529002497366\n",
      "4 0\n",
      "0.3693413969472891\n",
      "4 1\n",
      "0.3693075210807121\n",
      "4 2\n",
      "0.36927366241571286\n",
      "4 3\n",
      "0.3692398209427676\n",
      "4 4\n",
      "0.3692059966523579\n",
      "4 5\n",
      "0.36917218953497094\n",
      "4 6\n",
      "0.3693639904147461\n",
      "5 0\n",
      "0.3693188111150224\n",
      "5 1\n",
      "0.36927366240153475\n",
      "5 2\n",
      "0.3692285442517057\n",
      "5 3\n",
      "0.36918345664297514\n",
      "5 4\n",
      "0.36913839955280087\n",
      "5 5\n",
      "0.3690933729586581\n",
      "5 6\n",
      "Minimo:  0.3689172589490223\n",
      "Learning rate:  0.01\n",
      "Iterations:  500\n",
      "          500       1000      1500      2000      2500      3000      3500\n",
      "0.01  0.368917  0.369401  0.369406  0.369405  0.369404  0.369402  0.369401\n",
      "0.05  0.369404  0.369398  0.369392  0.369387  0.369381  0.369375  0.369370\n",
      "0.10  0.369398  0.369387  0.369375  0.369364  0.369353  0.369341  0.369330\n",
      "0.20  0.369387  0.369364  0.369341  0.369319  0.369296  0.369274  0.369251\n",
      "0.30  0.369375  0.369341  0.369308  0.369274  0.369240  0.369206  0.369172\n",
      "0.40  0.369364  0.369319  0.369274  0.369229  0.369183  0.369138  0.369093\n"
     ]
    }
   ],
   "source": [
    "import pandas as pd\n",
    "import numpy as np\n",
    "\n",
    "x_train = pd.read_csv('data/2_train_x.csv', header=None)\n",
    "y_train = pd.read_csv('data/2_train_y.csv', header=None)\n",
    "x_test = pd.read_csv('data/2_test_x.csv', header=None)\n",
    "y_test = pd.read_csv('data/2_test_y.csv', header=None)\n",
    "\n",
    "# Agregar columna de unos\n",
    "x_train = np.insert(x_train.values, 0, 1, axis=1) \n",
    "x_test = np.insert(x_test.values, 0, 1, axis=1)\n",
    "\n",
    "def Calcular_Costo(X, Y, theta):\n",
    "    cost = np.sum((np.dot(X,theta.T)-Y)**2) / (2*len(X))\n",
    "    return cost\n",
    "\n",
    "def Gradiente_descendiente(X, Y, theta, it, lr):\n",
    "    costs = [0]*it\n",
    "    size = len(X)\n",
    "    for i in range(it):\n",
    "        h = np.dot(X,theta.T)\n",
    "        rest = h - Y\n",
    "        deriv = np.dot(X.T,rest) / size\n",
    "        theta = theta - (lr * deriv).T\n",
    "        costs[i] = Calcular_Costo(X, Y , theta)\n",
    "    return theta, costs\n",
    "\n",
    "def Ecuacion_Normal(X, Y):\n",
    "    theta = np.linalg.inv(np.dot(X.T, X))\n",
    "    theta = np.dot(theta, X.T)\n",
    "    theta = np.dot(theta, Y)\n",
    "    return theta.T\n",
    "\n",
    "def MSE(Yp,Y):\n",
    "    tam =len(Y)\n",
    "    error = np.sum((Yp - Y)**2) / tam\n",
    "    return error\n",
    "\n",
    "# Usando Ecuación Normal\n",
    "\n",
    "thetas = np.zeros(4)[np.newaxis]\n",
    "\n",
    "thetas_inicio = Ecuacion_Normal(x_train, y_train)\n",
    "error_train = MSE(np.dot(x_train, thetas_inicio.T), y_train)\n",
    "error_test = MSE(np.dot(x_test, thetas_inicio.T), y_test)\n",
    "\n",
    "print('Thetas Ecuación Normal')\n",
    "print(thetas_inicio)\n",
    "# print(error_train)\n",
    "# print(error_test)\n",
    "\n",
    "# Gradiente Descendiente\n",
    "\n",
    "learning_rate = [0.01, 0.05, 0.1, 0.2, 0.3, 0.4]\n",
    "iterations = [500, 1000, 1500, 2000, 2500, 3000, 3500]\n",
    "matriz = np.zeros((len(learning_rate), len(iterations)))\n",
    "\n",
    "x = 0\n",
    "y = 0\n",
    "for l in learning_rate:\n",
    "    y = 0\n",
    "    for i in iterations:\n",
    "        theta_actual, vac = Gradiente_descendiente(x_train, y_train, thetas, i, l)\n",
    "        matriz[x,y] = MSE(x_test.dot(theta_actual.T), y_test)\n",
    "        print(matriz[x, y])\n",
    "        print(x, y)\n",
    "        y += 1\n",
    "    x +=1\n",
    "\n",
    "\n",
    "df = pd.DataFrame(data=matriz, index = learning_rate, columns=iterations)\n",
    "\n",
    "id_1, id_2 = np.where(matriz == matriz.min())  # hallar indices de elemento minimo\n",
    "print ('Minimo: ', matriz.min())\n",
    "print ('Learning rate: ', learning_rate[int(id_1)])\n",
    "print ('Iterations: ', iterations[int(id_2)])\n",
    "print (df) \n"
   ]
  },
  {
   "cell_type": "markdown",
   "metadata": {},
   "source": [
    "## Graficar"
   ]
  },
  {
   "cell_type": "code",
   "execution_count": 38,
   "metadata": {},
   "outputs": [
    {
     "data": {
      "text/plain": [
       "Text(0, 0.5, 'Costos')"
      ]
     },
     "execution_count": 38,
     "metadata": {},
     "output_type": "execute_result"
    },
    {
     "data": {
      "image/png": "[encoded data removed]",
      "text/plain": [
       "<Figure size 1440x720 with 2 Axes>"
      ]
     },
     "metadata": {
      "needs_background": "light"
     },
     "output_type": "display_data"
    }
   ],
   "source": [
    "\n",
    "import matplotlib.pyplot as plt\n",
    "\n",
    "fig, ax = plt.subplots(1, 2, figsize=(20,10))\n",
    "\n",
    "thetas_train, costos_train = Gradiente_descendiente(x_train, y_train, thetas, iterations[0], learning_rate[0])\n",
    "thetas_test, costos_test = Gradiente_descendiente(x_test, y_test, thetas, iterations[0], learning_rate[0])\n",
    "\n",
    "ax[0].scatter(np.arange(iterations[0]), costos_train, alpha = 1, c=\"green\", s=1)\n",
    "ax[0].set_title(\"Generación de energía train\")\n",
    "ax[0].set_xlabel('Iteraciones')\n",
    "ax[0].set_ylabel('Costos')\n",
    "\n",
    "ax[1].scatter(np.arange(iterations[0]), costos_test, alpha = 1, c=\"green\", s=1)\n",
    "ax[1].set_title(\"Generación de energía test\")\n",
    "ax[1].set_xlabel('Iteraciones')\n",
    "ax[1].set_ylabel('Costos')"
   ]
  },
  {
   "cell_type": "markdown",
   "metadata": {},
   "source": [
    "## Predicción"
   ]
  },
  {
   "cell_type": "code",
   "execution_count": 57,
   "metadata": {},
   "outputs": [
    {
     "name": "stdout",
     "output_type": "stream",
     "text": [
      "(1, 4)\n",
      "(28, 4)\n",
      "(28, 1)\n",
      "Ejemplo de prediccion de energia a determinadas horas\n",
      "12:15 pm:  36.203697244393986\n",
      "0:15 am:  0.7388509641713058\n"
     ]
    }
   ],
   "source": [
    "n_features = x_train.shape[1]\n",
    "theta = np.zeros(n_features)\n",
    "\n",
    "print(thetas.shape)\n",
    "print(x_test.shape)\n",
    "print(y_test.shape)\n",
    "\n",
    "def prediccion(theta, datos):\n",
    "    return np.dot(datos, theta)\n",
    "\n",
    "datos1 = np.array([ \n",
    "    0,\n",
    "    12*60 + 15,  # 12:15 pm\n",
    "    0,\n",
    "    0,\n",
    "])\n",
    "datos2 = np.array([\n",
    "    0,\n",
    "    0*60 + 15,  # 0:15 am\n",
    "    0,\n",
    "    0,\n",
    "])\n",
    "\n",
    "print('Ejemplo de prediccion de energia a determinadas horas')\n",
    "print('12:15 pm: ', prediccion(thetas_test[0], datos1))\n",
    "print('0:15 am: ', prediccion(thetas_test[0], datos2))\n",
    "# La energía generada al medio día debe\n"
   ]
  },
  {
   "cell_type": "code",
   "execution_count": null,
   "metadata": {},
   "outputs": [],
   "source": []
  }
 ],
 "metadata": {
  "kernelspec": {
   "display_name": "Python 2",
   "language": "python",
   "name": "python2"
  },
  "language_info": {
   "codemirror_mode": {
    "name": "ipython",
    "version": 3
   },
   "file_extension": ".py",
   "mimetype": "text/x-python",
   "name": "python",
   "nbconvert_exporter": "python",
   "pygments_lexer": "ipython3",
   "version": "3.6.9"
  }
 },
 "nbformat": 4,
 "nbformat_minor": 2
}
