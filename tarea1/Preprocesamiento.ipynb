{
 "cells": [
  {
   "cell_type": "markdown",
   "metadata": {},
   "source": [
    "## Crear X, Y"
   ]
  },
  {
   "cell_type": "code",
   "execution_count": 79,
   "metadata": {},
   "outputs": [
    {
     "name": "stdout",
     "output_type": "stream",
     "text": [
      "[[9.0000e+00 3.5710e+03 1.9760e+03 5.2500e-01]\n",
      " [9.0000e+00 4.0920e+03 1.2500e+03 5.7200e-01]\n",
      " [9.0000e+00 3.8650e+03 1.5860e+03 5.8000e-01]\n",
      " [7.5000e+00 4.8700e+03 2.3510e+03 5.2900e-01]\n",
      " [8.0000e+00 4.3990e+03 4.3100e+02 5.4400e-01]\n",
      " [1.0000e+01 5.3420e+03 1.3330e+03 5.7100e-01]\n",
      " [8.0000e+00 5.3190e+03 1.1868e+04 4.5100e-01]\n",
      " [8.0000e+00 5.1260e+03 2.1380e+03 5.5300e-01]\n",
      " [8.0000e+00 4.4470e+03 8.5770e+03 5.2900e-01]\n",
      " [7.0000e+00 4.5120e+03 8.5070e+03 5.5200e-01]\n",
      " [8.0000e+00 4.3910e+03 5.9390e+03 5.3000e-01]\n",
      " [7.5000e+00 5.1260e+03 1.4186e+04 5.2500e-01]\n",
      " [7.0000e+00 4.8170e+03 6.9300e+03 5.7400e-01]\n",
      " [7.0000e+00 4.2070e+03 6.5800e+03 5.4500e-01]\n",
      " [7.0000e+00 4.3320e+03 8.1590e+03 6.0800e-01]\n",
      " [7.0000e+00 4.3180e+03 1.0340e+04 5.8600e-01]\n",
      " [7.0000e+00 4.2060e+03 8.5080e+03 5.7200e-01]\n",
      " [7.0000e+00 3.7180e+03 4.7250e+03 5.4000e-01]\n",
      " [7.0000e+00 4.7160e+03 5.9150e+03 7.2400e-01]\n",
      " [8.5000e+00 4.3410e+03 6.0100e+03 6.7700e-01]\n",
      " [7.0000e+00 4.5930e+03 7.8340e+03 6.6300e-01]\n",
      " [8.0000e+00 4.9830e+03 6.0200e+02 6.0200e-01]\n",
      " [9.0000e+00 4.8970e+03 2.4490e+03 5.1100e-01]\n",
      " [9.0000e+00 4.2580e+03 4.6860e+03 5.1700e-01]\n",
      " [8.5000e+00 4.5740e+03 2.6190e+03 5.5100e-01]\n",
      " [9.0000e+00 3.7210e+03 4.7460e+03 5.4400e-01]\n",
      " [8.0000e+00 3.4480e+03 5.3990e+03 5.4800e-01]\n",
      " [7.5000e+00 3.8460e+03 9.0610e+03 5.7900e-01]\n",
      " [8.0000e+00 4.1880e+03 5.9750e+03 5.6300e-01]\n",
      " [9.0000e+00 3.6010e+03 4.6500e+03 4.9300e-01]\n",
      " [7.0000e+00 3.6400e+03 6.9050e+03 5.1800e-01]\n",
      " [7.0000e+00 3.3330e+03 6.5940e+03 5.1300e-01]\n",
      " [8.0000e+00 3.0630e+03 6.5240e+03 5.7800e-01]\n",
      " [7.5000e+00 3.3570e+03 4.1210e+03 5.4700e-01]\n",
      " [8.0000e+00 3.5280e+03 3.4950e+03 4.8700e-01]\n",
      " [6.5800e+00 3.8020e+03 7.8340e+03 6.2900e-01]\n",
      " [5.0000e+00 4.0450e+03 1.7782e+04 5.6600e-01]\n",
      " [7.0000e+00 3.8970e+03 6.3850e+03 5.8600e-01]\n",
      " [8.5000e+00 3.6350e+03 3.2740e+03 6.6300e-01]\n",
      " [7.0000e+00 4.3450e+03 3.9050e+03 6.7200e-01]\n",
      " [7.0000e+00 4.4490e+03 4.6390e+03 6.2600e-01]\n",
      " [7.0000e+00 3.6560e+03 3.9850e+03 5.6300e-01]\n",
      " [7.0000e+00 4.3000e+03 3.6350e+03 6.0300e-01]\n",
      " [7.0000e+00 3.7450e+03 2.6110e+03 5.0800e-01]\n",
      " [6.0000e+00 5.2150e+03 2.3020e+03 6.7200e-01]\n",
      " [9.0000e+00 4.4760e+03 3.9420e+03 5.7100e-01]\n",
      " [7.0000e+00 4.2960e+03 4.0830e+03 6.2300e-01]\n",
      " [7.0000e+00 5.0020e+03 9.7940e+03 5.9300e-01]]\n",
      "[541. 524. 561. 414. 410. 457. 344. 467. 464. 498. 580. 471. 525. 508.\n",
      " 566. 635. 603. 714. 865. 640. 649. 540. 464. 547. 460. 566. 577. 631.\n",
      " 574. 534. 571. 554. 577. 628. 487. 644. 640. 704. 648. 968. 587. 699.\n",
      " 632. 591. 782. 510. 610. 524.]\n"
     ]
    }
   ],
   "source": [
    "import pandas as pd\n",
    "import numpy as np\n",
    "\n",
    "data = pd.read_csv('data/petrol_consumption.csv', delimiter='\\t', header=0 ,dtype=np.float64)\n",
    "data = data.values\n",
    "\n",
    "set_x = data[:,0:-1]\n",
    "set_y = data[:,-1]\n",
    "\n",
    "print(set_x)\n",
    "print(set_y)\n"
   ]
  },
  {
   "cell_type": "markdown",
   "metadata": {},
   "source": [
    "## Normalizar X, Y"
   ]
  },
  {
   "cell_type": "code",
   "execution_count": 80,
   "metadata": {},
   "outputs": [
    {
     "name": "stdout",
     "output_type": "stream",
     "text": [
      "[[ 1.4154413  -1.18184136 -1.03892124 -0.8259031 ]\n",
      " [ 1.4154413  -0.26396904 -1.24905478  0.03036408]\n",
      " [ 1.4154413  -0.66388654 -1.1518029   0.17611169]\n",
      " [-0.17892312  1.10667332 -0.93038119 -0.7530293 ]\n",
      " [ 0.35253169  0.27688855 -1.48610625 -0.47975254]\n",
      " [ 2.47835091  1.93821984 -1.22503125  0.01214563]\n",
      " [ 0.35253169  1.89769956  1.82422057 -2.17406847]\n",
      " [ 0.35253169  1.5576816  -0.99203194 -0.31578648]\n",
      " [ 0.35253169  0.3614526   0.87167309 -0.7530293 ]\n",
      " [-0.71037792  0.47596642  0.85141228 -0.33400493]\n",
      " [ 0.35253169  0.26279454  0.10813001 -0.73481085]\n",
      " [-0.17892312  1.5576816   2.4951428  -0.8259031 ]\n",
      " [-0.71037792  1.01330051  0.39496518  0.06680099]\n",
      " [-0.71037792 -0.06136766  0.29366114 -0.46153409]\n",
      " [-0.71037792  0.15885122  0.75068711  0.68622832]\n",
      " [-0.71037792  0.13418671  1.38195604  0.2854224 ]\n",
      " [-0.71037792 -0.06312941  0.85170172  0.03036408]\n",
      " [-0.71037792 -0.92286395 -0.24325031 -0.55262634]\n",
      " [-0.71037792  0.83536365  0.10118345  2.79956861]\n",
      " [ 0.88398649  0.17470698  0.12868026  1.94330142]\n",
      " [-0.71037792  0.61866826  0.65661907  1.68824311]\n",
      " [ 0.35253169  1.30575119 -1.43661199  0.57691761]\n",
      " [ 1.4154413   1.1542406  -0.90201606 -1.08096142]\n",
      " [ 1.4154413   0.02848164 -0.25453848 -0.97165071]\n",
      " [ 0.88398649  0.58519499 -0.85281124 -0.35222338]\n",
      " [ 1.4154413  -0.9175787  -0.23717207 -0.47975254]\n",
      " [ 0.35253169 -1.39853675 -0.04816766 -0.40687874]\n",
      " [-0.17892312 -0.69735981  1.01176211  0.15789324]\n",
      " [ 0.35253169 -0.09484093  0.11854986 -0.13360197]\n",
      " [ 1.4154413  -1.12898883 -0.26495832 -1.40889353]\n",
      " [-0.71037792 -1.06028054  0.38772918 -0.95343226]\n",
      " [-0.71037792 -1.60113813  0.2977133  -1.04452452]\n",
      " [ 0.35253169 -2.07681092  0.27745249  0.13967479]\n",
      " [-0.17892312 -1.5588561  -0.41807215 -0.42509719]\n",
      " [ 0.35253169 -1.25759666 -0.59926168 -1.51820424]\n",
      " [-1.15679996 -0.77487686  0.65661907  1.06881578]\n",
      " [-2.83619714 -0.34677134  3.53596953 -0.07894662]\n",
      " [-0.71037792 -0.60751051  0.23722031  0.2854224 ]\n",
      " [ 0.88398649 -1.06908929 -0.66322795  1.68824311]\n",
      " [-0.71037792  0.18175399 -0.48059122  1.85220917]\n",
      " [-0.71037792  0.3649761  -0.26814217  1.01416043]\n",
      " [-0.71037792 -1.03209252 -0.45743601 -0.13360197]\n",
      " [-0.71037792  0.10247519 -0.55874006  0.59513606]\n",
      " [-0.71037792 -0.87529667 -0.85512676 -1.13561677]\n",
      " [-1.77328753  1.71447745 -0.94456376  1.85220917]\n",
      " [ 1.4154413   0.41254338 -0.46988194  0.01214563]\n",
      " [-0.71037792  0.09542818 -0.42907088  0.95950508]\n",
      " [-0.71037792  1.33922446  1.22392173  0.41295155]]\n",
      "[-3.23091636e-01 -4.76640136e-01 -1.42446342e-01 -1.47018926e+00\n",
      " -1.50631832e+00 -1.08180187e+00 -2.10244779e+00 -9.91479226e-01\n",
      " -1.01857602e+00 -7.11479019e-01  2.91666882e-02 -9.55350167e-01\n",
      " -4.67607872e-01 -6.21156372e-01 -9.72850180e-02  5.25941248e-01\n",
      "  2.36908777e-01  1.23949016e+00  2.60336213e+00  5.71102572e-01\n",
      "  6.52392954e-01 -3.32123901e-01 -1.01857602e+00 -2.68898048e-01\n",
      " -1.05470508e+00 -9.72850180e-02  2.06989400e-03  4.89812189e-01\n",
      " -2.50269002e-02 -3.86317489e-01 -5.21236944e-02 -2.05672195e-01\n",
      "  2.06989400e-03  4.62715395e-01 -8.10833931e-01  6.07231631e-01\n",
      "  5.71102572e-01  1.14916751e+00  6.43360689e-01  3.53368540e+00\n",
      "  9.23925413e-02  1.10400619e+00  4.98844454e-01  1.28521600e-01\n",
      "  1.85368416e+00 -6.03091843e-01  3.00134630e-01 -4.76640136e-01]\n"
     ]
    }
   ],
   "source": [
    "def norm(arr):\n",
    "    mean = np.mean(arr,axis=0)\n",
    "    std = np.std(arr, axis=0)\n",
    "    for i in range(0, arr.shape[0]):\n",
    "        arr[i] = np.true_divide(arr[i] - mean, std)\n",
    "    return arr\n",
    "\n",
    "set_x = norm(set_x)\n",
    "set_y = norm(set_y)\n",
    "print(set_x)\n",
    "print(set_y)"
   ]
  },
  {
   "cell_type": "markdown",
   "metadata": {},
   "source": [
    "## Dividir en train, test"
   ]
  },
  {
   "cell_type": "code",
   "execution_count": 81,
   "metadata": {},
   "outputs": [],
   "source": [
    "limit = int(0.7*len(set_x))\n",
    "train_x , test_x = set_x[:limit,:], set_x[limit:, :]\n",
    "train_y , test_y = set_y[:limit], set_y[limit:] \n",
    "\n",
    "np.savetxt('data/1_train_x.csv', train_x, delimiter=',')\n",
    "np.savetxt('data/1_train_y.csv', train_y, delimiter=',')\n",
    "\n",
    "np.savetxt('data/1_test_x.csv', test_x, delimiter=',')\n",
    "np.savetxt('data/1_test_y.csv', test_y, delimiter=',')\n"
   ]
  },
  {
   "cell_type": "code",
   "execution_count": 4,
   "metadata": {},
   "outputs": [
    {
     "ename": "NameError",
     "evalue": "name 'array1' is not defined",
     "output_type": "error",
     "traceback": [
      "\u001b[0;31m---------------------------------------------------------------------------\u001b[0m",
      "\u001b[0;31mNameError\u001b[0m                                 Traceback (most recent call last)",
      "\u001b[0;32m<ipython-input-4-1d327c8da56a>\u001b[0m in \u001b[0;36m<module>\u001b[0;34m\u001b[0m\n\u001b[0;32m----> 1\u001b[0;31m \u001b[0mlimit\u001b[0m \u001b[0;34m=\u001b[0m \u001b[0mint\u001b[0m\u001b[0;34m(\u001b[0m\u001b[0mlen\u001b[0m\u001b[0;34m(\u001b[0m\u001b[0marray1\u001b[0m\u001b[0;34m)\u001b[0m\u001b[0;34m*\u001b[0m\u001b[0;36m0.7\u001b[0m\u001b[0;34m)\u001b[0m\u001b[0;34m\u001b[0m\u001b[0;34m\u001b[0m\u001b[0m\n\u001b[0m\u001b[1;32m      2\u001b[0m \u001b[0marray1\u001b[0m \u001b[0;34m=\u001b[0m \u001b[0mnp\u001b[0m\u001b[0;34m.\u001b[0m\u001b[0marray\u001b[0m\u001b[0;34m(\u001b[0m\u001b[0;34m[\u001b[0m\u001b[0;34m[\u001b[0m\u001b[0;36m1\u001b[0m\u001b[0;34m,\u001b[0m\u001b[0;36m2\u001b[0m\u001b[0;34m,\u001b[0m\u001b[0;36m3\u001b[0m\u001b[0;34m]\u001b[0m\u001b[0;34m,\u001b[0m \u001b[0;34m[\u001b[0m\u001b[0;36m4\u001b[0m\u001b[0;34m,\u001b[0m\u001b[0;36m5\u001b[0m\u001b[0;34m,\u001b[0m\u001b[0;36m6\u001b[0m\u001b[0;34m]\u001b[0m\u001b[0;34m,\u001b[0m \u001b[0;34m[\u001b[0m\u001b[0;36m7\u001b[0m\u001b[0;34m,\u001b[0m\u001b[0;36m8\u001b[0m\u001b[0;34m,\u001b[0m\u001b[0;36m9\u001b[0m\u001b[0;34m]\u001b[0m\u001b[0;34m,\u001b[0m \u001b[0;34m[\u001b[0m\u001b[0;36m10\u001b[0m\u001b[0;34m,\u001b[0m \u001b[0;36m11\u001b[0m\u001b[0;34m,\u001b[0m \u001b[0;36m12\u001b[0m\u001b[0;34m]\u001b[0m\u001b[0;34m,\u001b[0m \u001b[0;34m[\u001b[0m\u001b[0;36m13\u001b[0m\u001b[0;34m,\u001b[0m \u001b[0;36m14\u001b[0m\u001b[0;34m,\u001b[0m \u001b[0;36m15\u001b[0m\u001b[0;34m]\u001b[0m\u001b[0;34m,\u001b[0m \u001b[0;34m[\u001b[0m\u001b[0;36m16\u001b[0m\u001b[0;34m,\u001b[0m \u001b[0;36m17\u001b[0m\u001b[0;34m,\u001b[0m \u001b[0;36m18\u001b[0m\u001b[0;34m]\u001b[0m\u001b[0;34m]\u001b[0m\u001b[0;34m)\u001b[0m\u001b[0;34m\u001b[0m\u001b[0;34m\u001b[0m\u001b[0m\n\u001b[1;32m      3\u001b[0m \u001b[0marray2\u001b[0m \u001b[0;34m=\u001b[0m \u001b[0mnp\u001b[0m\u001b[0;34m.\u001b[0m\u001b[0marray\u001b[0m\u001b[0;34m(\u001b[0m\u001b[0;34m[\u001b[0m\u001b[0;36m1\u001b[0m\u001b[0;34m,\u001b[0m\u001b[0;36m2\u001b[0m\u001b[0;34m,\u001b[0m\u001b[0;36m3\u001b[0m\u001b[0;34m,\u001b[0m\u001b[0;36m4\u001b[0m\u001b[0;34m,\u001b[0m\u001b[0;36m5\u001b[0m\u001b[0;34m,\u001b[0m\u001b[0;36m6\u001b[0m\u001b[0;34m]\u001b[0m\u001b[0;34m)\u001b[0m\u001b[0;34m\u001b[0m\u001b[0;34m\u001b[0m\u001b[0m\n\u001b[1;32m      4\u001b[0m \u001b[0mtrainx\u001b[0m \u001b[0;34m,\u001b[0m \u001b[0mtestx\u001b[0m \u001b[0;34m=\u001b[0m \u001b[0marray1\u001b[0m\u001b[0;34m[\u001b[0m\u001b[0;34m:\u001b[0m\u001b[0mlimit\u001b[0m\u001b[0;34m,\u001b[0m\u001b[0;34m:\u001b[0m\u001b[0;34m]\u001b[0m\u001b[0;34m,\u001b[0m \u001b[0marray1\u001b[0m\u001b[0;34m[\u001b[0m\u001b[0mlimit\u001b[0m\u001b[0;34m:\u001b[0m\u001b[0;34m,\u001b[0m \u001b[0;34m:\u001b[0m\u001b[0;34m]\u001b[0m\u001b[0;34m\u001b[0m\u001b[0;34m\u001b[0m\u001b[0m\n\u001b[1;32m      5\u001b[0m \u001b[0mtrainy\u001b[0m \u001b[0;34m,\u001b[0m \u001b[0mtesty\u001b[0m \u001b[0;34m=\u001b[0m \u001b[0marray2\u001b[0m\u001b[0;34m[\u001b[0m\u001b[0;34m:\u001b[0m\u001b[0mlimit\u001b[0m\u001b[0;34m]\u001b[0m\u001b[0;34m,\u001b[0m \u001b[0marray2\u001b[0m\u001b[0;34m[\u001b[0m\u001b[0mlimit\u001b[0m\u001b[0;34m:\u001b[0m\u001b[0;34m]\u001b[0m\u001b[0;34m\u001b[0m\u001b[0;34m\u001b[0m\u001b[0m\n",
      "\u001b[0;31mNameError\u001b[0m: name 'array1' is not defined"
     ]
    }
   ],
   "source": [
    "limit = int(len(array1)*0.7)\n",
    "array1 = np.array([[1,2,3], [4,5,6], [7,8,9], [10, 11, 12], [13, 14, 15], [16, 17, 18]])\n",
    "array2 = np.array([1,2,3,4,5,6])\n",
    "trainx , testx = array1[:limit,:], array1[limit:, :]\n",
    "trainy , testy = array2[:limit], array2[limit:]\n",
    "print(trainx)\n",
    "print(testx)\n",
    "print(trainy)\n",
    "print(testy)"
   ]
  },
  {
   "cell_type": "markdown",
   "metadata": {},
   "source": [
    "# Experimento 2 - Generación de energía solar"
   ]
  },
  {
   "cell_type": "code",
   "execution_count": 111,
   "metadata": {},
   "outputs": [
    {
     "name": "stdout",
     "output_type": "stream",
     "text": [
      "Index(['DATE_TIME', 'PLANT_ID', 'SOURCE_KEY', 'DC_POWER', 'AC_POWER',\n",
      "       'TOTAL_YIELD'],\n",
      "      dtype='object')\n",
      "Index(['DATE_TIME', 'DC_POWER', 'AC_POWER', 'TOTAL_YIELD'], dtype='object')\n",
      "(93, 3)\n",
      "(93,)\n",
      "(65, 3) (28, 3)\n",
      "(65,) (28,)\n"
     ]
    }
   ],
   "source": [
    "import pandas as pd\n",
    "import numpy as np\n",
    "data = pd.read_csv('data/solar_generation.csv', delimiter=',', header=0)\n",
    "\n",
    "# Obtener datos de una sola planta y un solo día\n",
    "id_planta = '1BY6WEcLGh8j5v7'\n",
    "data = data[data.SOURCE_KEY == id_planta]\n",
    "del data['DAILY_YIELD']\n",
    "\n",
    "# Convertir formato de hora en número(minutos)\n",
    "for i, row in data.iterrows():\n",
    "    ifor_val = row[0][10:]\n",
    "    val = int(ifor_val[0:3])*60 + int(ifor_val[4:])\n",
    "    # print(ifor_val, val)\n",
    "    data.at[i,'DATE_TIME'] = val\n",
    "\n",
    "# Mezclar filas\n",
    "data=data.sample(frac=1).reset_index(drop=True)\n",
    "\n",
    "print(data.columns)\n",
    "\n",
    "# Eliminar columna innecesaria\n",
    "del data['SOURCE_KEY']\n",
    "del data['PLANT_ID']\n",
    "print(data.columns)\n",
    "data['DATE_TIME'] = data['DATE_TIME'].astype(float)\n",
    "    \n",
    "# Separar en X, Y\n",
    "set_x = data\n",
    "set_y = data['TOTAL_YIELD']\n",
    "del set_x['TOTAL_YIELD']\n",
    "\n",
    "# Normalizar\n",
    "def norm(arr):\n",
    "    mean = np.mean(arr,axis=0)\n",
    "    std = np.std(arr, axis=0)\n",
    "    for i in range(0, arr.shape[0]):\n",
    "        arr[i] = np.true_divide(arr[i] - mean, std)\n",
    "    return arr\n",
    "\n",
    "# print(set_x.values)\n",
    "# print(set_y.values)\n",
    "set_x = norm(set_x.values)\n",
    "set_y = norm(set_y.values)\n",
    "\n",
    "\n",
    "print(set_x.shape)\n",
    "print(set_y.shape)\n",
    "\n",
    "limit = int(len(data.values)*0.7)\n",
    "\n",
    "train_x, test_x = set_x[:limit, :], set_x[limit:, :]\n",
    "train_y, test_y = set_y[:limit], set_y[limit:]\n",
    "print(train_x.shape, test_x.shape)\n",
    "print(train_y.shape, test_y.shape)\n",
    "\n",
    "np.savetxt('data/2_train_x.csv', train_x, delimiter=',')\n",
    "np.savetxt('data/2_train_y.csv', train_y, delimiter=',')\n",
    "\n",
    "np.savetxt('data/2_test_x.csv', test_x, delimiter=',')\n",
    "np.savetxt('data/2_test_y.csv', test_y, delimiter=',')\n",
    "\n"
   ]
  },
  {
   "cell_type": "code",
   "execution_count": null,
   "metadata": {},
   "outputs": [],
   "source": []
  },
  {
   "cell_type": "code",
   "execution_count": null,
   "metadata": {},
   "outputs": [],
   "source": []
  }
 ],
 "metadata": {
  "kernelspec": {
   "display_name": "Python 2",
   "language": "python",
   "name": "python2"
  },
  "language_info": {
   "codemirror_mode": {
    "name": "ipython",
    "version": 3
   },
   "file_extension": ".py",
   "mimetype": "text/x-python",
   "name": "python",
   "nbconvert_exporter": "python",
   "pygments_lexer": "ipython3",
   "version": "3.6.9"
  }
 },
 "nbformat": 4,
 "nbformat_minor": 2
}
